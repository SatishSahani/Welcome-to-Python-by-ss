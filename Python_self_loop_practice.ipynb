{
 "cells": [
  {
   "cell_type": "markdown",
   "id": "375fcd4f",
   "metadata": {},
   "source": [
    "## 1.Write a program to check whether a person is eligible for voting or not (accept age from user)\n",
    "\n",
    "\n",
    "https://csiplearninghub.com/python-if-else-conditional-statement-practice/#test1\n"
   ]
  },
  {
   "cell_type": "code",
   "execution_count": null,
   "id": "64b6076a",
   "metadata": {},
   "outputs": [],
   "source": [
    "age=int(input(\"Please Enter the age:\"))\n",
    "if age>=18:\n",
    "    print(\" congratulations! you are elligible for vote.\")\n",
    "else:\n",
    "    print(\"Sorry! you are not elligible for vote.\")\n"
   ]
  },
  {
   "cell_type": "code",
   "execution_count": null,
   "id": "fbf5707d",
   "metadata": {},
   "outputs": [],
   "source": [
    "def check_vote_eligibility(age_input):\n",
    "    for i in range(18,100):\n",
    "        if age_input.isdigit():\n",
    "            age = int(age_input)\n",
    "        if age >= 18:\n",
    "            return True\n",
    "        else:\n",
    "            return False\n",
    "    else:\n",
    "        return False\n",
    "\n",
    "# Test the function\n",
    "user_input = input(\"Please enter your age: \")\n",
    "if check_vote_eligibility(user_input):\n",
    "    print(\"Conratulation! You are eligible to vote.\")\n",
    "else:\n",
    "    print(\"o..o! You are not eligible to vote.\")\n"
   ]
  },
  {
   "cell_type": "markdown",
   "id": "abc3bc46",
   "metadata": {},
   "source": [
    "### 2.Write a program to check whether a number enter by user is even or odd"
   ]
  },
  {
   "cell_type": "code",
   "execution_count": null,
   "id": "c5f6c2fa",
   "metadata": {},
   "outputs": [],
   "source": [
    "a=int(input(\"Please enter the Number\"))\n",
    "#b=int(input(\"Please enter 2nd Number\"))\n",
    "if a%2==0:\n",
    "    print(\"The Output is Even Number:\")\n",
    "else:\n",
    "    print(\"The output is Odd Number\")"
   ]
  },
  {
   "cell_type": "markdown",
   "id": "a1aebcc9",
   "metadata": {},
   "source": [
    "### 3.Write a program to check whether a number is divisible by 7 or not."
   ]
  },
  {
   "cell_type": "code",
   "execution_count": null,
   "id": "de8f989b",
   "metadata": {},
   "outputs": [],
   "source": [
    "a=int(input(\"Please enter the Number:\"))\n",
    "if a%7==0:\n",
    "    print(\"Yes! This number is divisible by 7:\")\n",
    "else:\n",
    "    print(\"O...O! This number is not divided by 7:\")\n",
    "    \n"
   ]
  },
  {
   "cell_type": "markdown",
   "id": "e37c77d6",
   "metadata": {},
   "source": [
    "### 4. Write a program to dispaly \"Hello\" if a number entered by user is a multiple of five, othervise print \"Bye\""
   ]
  },
  {
   "cell_type": "code",
   "execution_count": null,
   "id": "f17704b5",
   "metadata": {},
   "outputs": [],
   "source": [
    "a=int(input(\"Please enter the Number:\"))\n",
    "if a%5==0:\n",
    "    print(\"Yes!:\")\n",
    "else:\n",
    "    print(\"Bye:\")\n",
    "    \n"
   ]
  },
  {
   "cell_type": "markdown",
   "id": "f1047d43",
   "metadata": {},
   "source": [
    "### 5.Write a program to calculate the electricity bill (accept number of unit from user) according to the following criteria:\n",
    "###   Unit............................................Price\n",
    "#### First 100 unit.................................... charge\n",
    "#### Next 100 units................................... Rs 5 per unit\n",
    "#### after 200 units....................................Rs 10 per unit\n",
    "#### for example if input is 350 then total bill amount is Rs 2000\n",
    "\n"
   ]
  },
  {
   "cell_type": "code",
   "execution_count": null,
   "id": "126a01c4",
   "metadata": {},
   "outputs": [],
   "source": [
    "amt=0\n",
    "unit=int(input(\"Enter the number of electrity unit:\"))\n",
    "if unit<=100:\n",
    "    amt=0\n",
    "if unit>100 and unit<=200:\n",
    "    amt=(amt-100)*5\n",
    "if unit >200:\n",
    "    amt=500+(unit-200)*10\n",
    "print(\"Amount to pay:\",amt)    \n",
    "    \n",
    "    "
   ]
  },
  {
   "cell_type": "code",
   "execution_count": null,
   "id": "585ece6e",
   "metadata": {},
   "outputs": [],
   "source": [
    "# Print last digit of number\n",
    "num=int(input(\"Enter the number\"))\n",
    "print(\"the last digit of number is\",num%10)"
   ]
  },
  {
   "cell_type": "markdown",
   "id": "06ecb814",
   "metadata": {},
   "source": [
    "#### Print the last digit of a number is divisible by 3            or not"
   ]
  },
  {
   "cell_type": "code",
   "execution_count": null,
   "id": "c7924b42",
   "metadata": {},
   "outputs": [],
   "source": [
    "a=int(input(\"Please enter the Number:\"))\n",
    "b=a%10\n",
    "if b%3==0:\n",
    "    print(\"yes! it's last digit is divisible by 3\")\n",
    "else:\n",
    "    print(\"No!It is not divisible by 3\")    \n",
    "    \n"
   ]
  },
  {
   "cell_type": "code",
   "execution_count": null,
   "id": "c35eb0da",
   "metadata": {},
   "outputs": [],
   "source": [
    "x=int(input(\"enter the number:\"))\n",
    "if x%400==0:\n",
    "    print(\"leap year\")\n",
    "elif (x%100!=0) and (x%4==0):\n",
    "    print(\"leap year\")\n",
    "else:\n",
    "    print(\"not leap year\")"
   ]
  },
  {
   "cell_type": "code",
   "execution_count": null,
   "id": "38af3424",
   "metadata": {},
   "outputs": [],
   "source": [
    "Marks=int(input(\"Enter the Number students:\"))\n",
    "if Marks > 90:\n",
    "    print(\" your Grade is: A\")\n",
    "elif Marks > 80 and Marks <= 90:\n",
    "    print(\" your Grade is: B\")\n",
    "elif Marks >=60 and Marks <=80:\n",
    "    print(\" your Grade is: C\")\n",
    "else:\n",
    "    print(\" your Grade is: D\")"
   ]
  },
  {
   "cell_type": "markdown",
   "id": "09a3b97d",
   "metadata": {},
   "source": [
    "## 6.write a program to accept the cost price of bike and display the road tax to be paid according to the following criteria\n",
    "\n",
    "### Cost price (in Rs)                               Tax\n",
    "\n",
    "##>100000 ..............................................15%\n",
    "\n",
    "##>50000 and <= 100000 ........................10%\n",
    "\n",
    "##<=50000.................................................5%"
   ]
  },
  {
   "cell_type": "code",
   "execution_count": null,
   "id": "bd90bce2",
   "metadata": {},
   "outputs": [],
   "source": [
    "tax=0\n",
    "cost=int(input(\"Enter the cost:\"))\n",
    "if cost > 100000:\n",
    "    tax=15/100*cost\n",
    "elif (cost> 50000) and (cost <= 100000):\n",
    "    tax=10/100*cost\n",
    "else:\n",
    "    tax=5/100*cost\n",
    "print(\"tax to be paid:\",tax)"
   ]
  },
  {
   "cell_type": "markdown",
   "id": "6e6d9074",
   "metadata": {},
   "source": [
    "### 7.write a program to accept number from 1 to 7 dispaly the name of the day like 1 for sunday 2 for Monday and so on"
   ]
  },
  {
   "cell_type": "code",
   "execution_count": null,
   "id": "3abffe3a",
   "metadata": {},
   "outputs": [],
   "source": [
    "num=int(input(\"Enter the number:\"))\n",
    "# for i in range(1,8):\n",
    "if num ==1:\n",
    "    print(\"Sunday\")\n",
    "elif num==2:\n",
    "    print(\"Monday\")\n",
    "elif num==3:\n",
    "    print(\"Tuesday\")\n",
    "elif num==4:\n",
    "    print(\"Wednesday\")\n",
    "elif num==5:\n",
    "    print(\"Thrusday\")\n",
    "elif num==6:\n",
    "    print(\"Friday\")\n",
    "elif num==7:\n",
    "    print(\"Saturday\")\n",
    "else:\n",
    "    print(\"Please enter the num between 1 to 7: \")"
   ]
  },
  {
   "cell_type": "markdown",
   "id": "040a67dd",
   "metadata": {},
   "source": [
    "### 8.Write a program to accept a number from 1 to 12 and dispaly name of the months and days in that month like for january and number of days 31 and so on"
   ]
  },
  {
   "cell_type": "code",
   "execution_count": null,
   "id": "7fd86803",
   "metadata": {},
   "outputs": [],
   "source": [
    "num=int(input(\"Enter the Number of months:\"))\n",
    "if num ==1:\n",
    "    print(\" It's January! and number of days is 31\")\n",
    "elif num==2:\n",
    "    print(\" It's Febuary! and number of days is 28 or 29\")\n",
    "elif num==3:\n",
    "    print(\" It's March! and number of days is 31\")\n",
    "elif num==4:\n",
    "    print(\" It's April! and number of days is 30\")\n",
    "elif num==5:\n",
    "    print(\" It's May! and number of days is 31\")\n",
    "elif num==6:\n",
    "    print(\" It's June! and number of days is 30\")\n",
    "elif num==7:\n",
    "    print(\" It's July! and number of days is 31\")\n",
    "elif num==8:\n",
    "    print(\" It's August! and number of days is 31\")\n",
    "elif num==9:\n",
    "    print(\" It's September! and number of days is 30\")\n",
    "elif num ==10:\n",
    "    print(\" It's October! and number of days is 31\")\n",
    "elif num ==11:\n",
    "    print(\" It's November and number of days is 30\")\n",
    "elif num==12:\n",
    "    print(\" It's December! and number of days is 31\")\n",
    "else:\n",
    "    print(\"Please enter the number between 1 to 12!\")\n",
    "    \n",
    "    "
   ]
  },
  {
   "cell_type": "markdown",
   "id": "82b35089",
   "metadata": {},
   "source": [
    "## Python if else Statement Practice set-5\n",
    "#### 9. Accept the following from the user and calculate the percentage of the class attended:\n",
    "#### a. total Number of working days\n",
    "#### b.Total number of the days for absent\n",
    "\n",
    "#### After calculating the percentage show that, if the percentage is less than 75, then student will not be able to sit in exam.\n",
    "\n",
    "    "
   ]
  },
  {
   "cell_type": "code",
   "execution_count": null,
   "id": "fc9fd35a",
   "metadata": {},
   "outputs": [],
   "source": [
    "working_days = int(input(\"Enter the no. of  working days:\"))\n",
    "absent_days = int(input(\" Enter the no. of absent_days:\"))\n",
    "percentage=((working_days-absent_days)*100)/working_days\n",
    "if percentage > 75.0:\n",
    "    print(\"go and take the exam:\")\n",
    "else: \n",
    "    print(\"you are not able to sit in exam\")"
   ]
  },
  {
   "cell_type": "code",
   "execution_count": null,
   "id": "a2426f3d",
   "metadata": {},
   "outputs": [],
   "source": [
    "per=int(input(\"Enter the number:\"))\n",
    "if per < 25:\n",
    "    print(\"D\")\n",
    "elif per in range(25,45):\n",
    "    print(\"C\")\n",
    "elif per in range(45,50):\n",
    "    print(\"B\")\n",
    "elif per in range(50,60): \n",
    "    print(\"B+\")\n",
    "elif per in range(60,80):\n",
    "    print(\"A\")\n",
    "elif per >= 80: \n",
    "    print(\"A+\")"
   ]
  },
  {
   "cell_type": "code",
   "execution_count": null,
   "id": "85ecb33f",
   "metadata": {},
   "outputs": [],
   "source": [
    "8>7<9\n"
   ]
  },
  {
   "cell_type": "code",
   "execution_count": null,
   "id": "86bf6cff",
   "metadata": {},
   "outputs": [],
   "source": [
    "temp=int(input(\"Enter the temperature of water:\"))\n",
    "if temp >=100:\n",
    "    print(\"Water is boiling!\")\n",
    "else:\n",
    "    print(\"Not boiling\")"
   ]
  },
  {
   "cell_type": "code",
   "execution_count": null,
   "id": "08aec602",
   "metadata": {},
   "outputs": [],
   "source": []
  },
  {
   "cell_type": "code",
   "execution_count": null,
   "id": "bd92eea0",
   "metadata": {},
   "outputs": [],
   "source": []
  },
  {
   "cell_type": "markdown",
   "id": "265dedca",
   "metadata": {},
   "source": [
    "## 10.Write a program to accept two numbers and mathematical operators and perform operator accordingly"
   ]
  },
  {
   "cell_type": "code",
   "execution_count": null,
   "id": "bfc3f870",
   "metadata": {},
   "outputs": [],
   "source": [
    "num1=int(input(\"Enter the 1st number:\"))\n",
    "num2=int(input(\"Enter the 2nd number:\"))\n",
    "operator=input(\"Enter the operator:\")\n",
    "result= \n",
    "print(result)"
   ]
  },
  {
   "cell_type": "markdown",
   "id": "f730884d",
   "metadata": {},
   "source": [
    "## 11. Accept the age, sex (\"M\",\"F\"), number of days and display the wages accordingly"
   ]
  },
  {
   "cell_type": "code",
   "execution_count": 4,
   "id": "2afda094",
   "metadata": {},
   "outputs": [
    {
     "name": "stdout",
     "output_type": "stream",
     "text": [
      "Enter the age:19\n",
      "Enter the gender:m\n",
      "Enter the number of days:30\n",
      "21000\n"
     ]
    }
   ],
   "source": [
    "age=int(input(\"Enter the age:\"))\n",
    "gender=input(\"Enter the gender:\")\n",
    "days=int(input(\"Enter the number of days:\"))\n",
    "if age in range(18,30) and (gender in (\"M\",\"m\")):\n",
    "    print(700*days)\n",
    "elif age in range(18,30) and (gender==\"F\"):\n",
    "    print(750*days)\n",
    "elif age in range(30,41) and (gender ==\"M\"):\n",
    "    print(800*days)\n",
    "elif age in range(30,41)and (gender ==\"F\"):\n",
    "    print(850*days)\n",
    "    \n",
    "else:\n",
    "    print(\"Please Enter appropriate age\")\n",
    "             "
   ]
  },
  {
   "cell_type": "code",
   "execution_count": 10,
   "id": "f292960f",
   "metadata": {},
   "outputs": [
    {
     "name": "stdout",
     "output_type": "stream",
     "text": [
      "Enter the value of i:-2\n",
      "Enter the value of j:-5\n",
      "Enter the value of k:9\n",
      "9 -5 9\n"
     ]
    }
   ],
   "source": [
    "i=int(input(\"Enter the value of i:\"))\n",
    "j=int(input(\"Enter the value of j:\"))\n",
    "k=int(input(\"Enter the value of k:\"))\n",
    "if i<j:\n",
    "    if j<k:\n",
    "        i=j\n",
    "    else:\n",
    "        j=k\n",
    "else:\n",
    "    \n",
    "    if j>k:\n",
    "        j=i\n",
    "    else:\n",
    "        i=k\n",
    "print(i,j,k)        \n",
    "        "
   ]
  },
  {
   "cell_type": "code",
   "execution_count": 6,
   "id": "fd3ba3fa",
   "metadata": {},
   "outputs": [
    {
     "name": "stdout",
     "output_type": "stream",
     "text": [
      "Enter the No. of unit:700\n",
      "you have to pay : 2400\n"
     ]
    }
   ],
   "source": [
    "amt=0\n",
    "unit=int(input(\"Enter the No. of unit:\"))\n",
    "if unit <=100:\n",
    "    amt=0\n",
    "if unit >100 and unit <=200:\n",
    "    amt=((amt-200)*2)\n",
    "if unit >300:\n",
    "    amt=(400+(unit-300)*5)\n",
    "    print(\"you have to pay :\",amt)\n",
    " \n",
    "\n",
    "\n",
    "    "
   ]
  },
  {
   "cell_type": "code",
   "execution_count": 20,
   "id": "309a6285",
   "metadata": {},
   "outputs": [
    {
     "name": "stdout",
     "output_type": "stream",
     "text": [
      "Enter the number of days: 500\n",
      "The charge is:  2500\n"
     ]
    }
   ],
   "source": [
    "amt=0\n",
    "days=int(input(\"Enter the number of days: \"))\n",
    "if days in range (0,6):\n",
    "    amt=2*days\n",
    "elif days in range(6,11):\n",
    "    amt=3*days\n",
    "elif days in range(11,16):\n",
    "    amt=4*days\n",
    "elif days > 15:\n",
    "    amt=5*days\n",
    "print(\"The charge is: \",amt)"
   ]
  },
  {
   "cell_type": "code",
   "execution_count": 30,
   "id": "a338e288",
   "metadata": {},
   "outputs": [
    {
     "name": "stdout",
     "output_type": "stream",
     "text": [
      "Enter the distance in km: 93\n",
      "The bill is:  837\n"
     ]
    }
   ],
   "source": [
    "km=int(input(\"Enter the distance in km: \"))\n",
    "if km in range (0,11):\n",
    "    bill=11*km\n",
    "elif km in range (11,91):\n",
    "    bill=10*km\n",
    "else:\n",
    "    bill=9*km\n",
    "print(\"The bill is: \",bill)"
   ]
  },
  {
   "cell_type": "code",
   "execution_count": null,
   "id": "04158e2c",
   "metadata": {},
   "outputs": [],
   "source": []
  },
  {
   "cell_type": "code",
   "execution_count": null,
   "id": "1363c5e6",
   "metadata": {},
   "outputs": [],
   "source": [
    "eng=int(input(\"Enter the marks English:\"))\n",
    "math=int(input(\"Enter the marks Math:\"))\n",
    "sci=int(input(\"Enter the marks Science:\"))\n",
    "sst=int(input(\"Enter the marks Social Science:\"))\n",
    "sub=None\n",
    "if (eng >80 and math >80 and Sci >80 and sst >80):\n",
    "    sub = \"Science Stream\"\n",
    "elif (eng > 80 and math, sci > 50):\n",
    "    sub = \"Commerce\"\n",
    "elif (eng > 80 and sst >80):\n",
    "    sub = \"Humanities\"\n",
    "else:\n",
    "    sub=\"no one\"\n",
    "    print(\"desired subject is\",sub)\n",
    "    \n",
    "    \n"
   ]
  },
  {
   "cell_type": "code",
   "execution_count": 1,
   "id": "87d47937",
   "metadata": {},
   "outputs": [
    {
     "name": "stdout",
     "output_type": "stream",
     "text": [
      "Enter marks for English: 12\n",
      "Enter marks for Math: 12\n",
      "Enter marks for Science: 23\n",
      "Enter marks for Social Studies: 23\n",
      "Allotted Stream: Undecided\n"
     ]
    }
   ],
   "source": [
    "# Input marks for each subject\n",
    "english_marks = float(input(\"Enter marks for English: \"))\n",
    "math_marks = float(input(\"Enter marks for Math: \"))\n",
    "science_marks = float(input(\"Enter marks for Science: \"))\n",
    "social_studies_marks = float(input(\"Enter marks for Social Studies: \"))\n",
    "\n",
    "# Check the conditions and get the stream\n",
    "stream = None\n",
    "\n",
    "if english_marks > 80 and math_marks > 50 and science_marks > 50:\n",
    "    stream = \"Commerce Stream\"\n",
    "elif english_marks > 80 and social_studies_marks > 80:\n",
    "    stream = \"Humanities Stream\"\n",
    "elif english_marks > 80 and math_marks > 80 and science_marks > 80 and social_studies_marks > 80:\n",
    "    stream = \"Science Stream\"\n",
    "else:\n",
    "    stream = \"Undecided\"\n",
    "\n",
    "# Display the allotted stream\n",
    "print(\"Allotted Stream:\", stream)\n"
   ]
  },
  {
   "cell_type": "markdown",
   "id": "26c07d6d",
   "metadata": {},
   "source": []
  }
 ],
 "metadata": {
  "kernelspec": {
   "display_name": "Python 3 (ipykernel)",
   "language": "python",
   "name": "python3"
  },
  "language_info": {
   "codemirror_mode": {
    "name": "ipython",
    "version": 3
   },
   "file_extension": ".py",
   "mimetype": "text/x-python",
   "name": "python",
   "nbconvert_exporter": "python",
   "pygments_lexer": "ipython3",
   "version": "3.9.13"
  }
 },
 "nbformat": 4,
 "nbformat_minor": 5
}
