{
 "cells": [
  {
   "cell_type": "markdown",
   "id": "375fcd4f",
   "metadata": {},
   "source": [
    "## 1.Write a program to check whether a person is eligible for voting or not (accept age from user)\n",
    "\n",
    "\n",
    "https://csiplearninghub.com/python-if-else-conditional-statement-practice/#test1\n"
   ]
  },
  {
   "cell_type": "code",
   "execution_count": 1,
   "id": "3e61fd56",
   "metadata": {},
   "outputs": [
    {
     "name": "stdout",
     "output_type": "stream",
     "text": [
      "Please Enter the age:22\n",
      " congratulations! you are elligible for vote.\n"
     ]
    }
   ],
   "source": [
    "age=int(input(\"Please Enter the age:\"))\n",
    "if age>=18:\n",
    "    print(\" congratulations! you are elligible for vote.\")\n",
    "else:\n",
    "    print(\"Sorry! you are not elligible for vote.\")\n"
   ]
  },
  {
   "cell_type": "code",
   "execution_count": 5,
   "id": "fbf5707d",
   "metadata": {},
   "outputs": [
    {
     "name": "stdout",
     "output_type": "stream",
     "text": [
      "Please enter your age: 88\n",
      "Conratulation! You are eligible to vote.\n"
     ]
    }
   ],
   "source": [
    "def check_vote_eligibility(age_input):\n",
    "    for i in range(18,100):\n",
    "        if age_input.isdigit():\n",
    "            age = int(age_input)\n",
    "        if age >= 18:\n",
    "            return True\n",
    "        else:\n",
    "            return False\n",
    "    else:\n",
    "        return False\n",
    "\n",
    "# Test the function\n",
    "user_input = input(\"Please enter your age: \")\n",
    "if check_vote_eligibility(user_input):\n",
    "    print(\"Conratulation! You are eligible to vote.\")\n",
    "else:\n",
    "    print(\"o..o! You are not eligible to vote.\")\n"
   ]
  },
  {
   "cell_type": "markdown",
   "id": "abc3bc46",
   "metadata": {},
   "source": [
    "### 2.Write a program to check whether a number enter by user is even or odd"
   ]
  },
  {
   "cell_type": "code",
   "execution_count": 6,
   "id": "c5f6c2fa",
   "metadata": {},
   "outputs": [
    {
     "name": "stdout",
     "output_type": "stream",
     "text": [
      "Please enter the Number66\n",
      "The Output is Even Number:\n"
     ]
    }
   ],
   "source": [
    "a=int(input(\"Please enter the Number\"))\n",
    "#b=int(input(\"Please enter 2nd Number\"))\n",
    "if a%2==0:\n",
    "    print(\"The Output is Even Number:\")\n",
    "else:\n",
    "    print(\"The output is Odd Number\")"
   ]
  },
  {
   "cell_type": "markdown",
   "id": "a1aebcc9",
   "metadata": {},
   "source": [
    "### 3.Write a program to check whether a number is divisible by 7 or not."
   ]
  },
  {
   "cell_type": "code",
   "execution_count": 7,
   "id": "de8f989b",
   "metadata": {},
   "outputs": [
    {
     "name": "stdout",
     "output_type": "stream",
     "text": [
      "Please enter the Number:988\n",
      "O...O! This number is not divided by 7:\n"
     ]
    }
   ],
   "source": [
    "a=int(input(\"Please enter the Number:\"))\n",
    "if a%7==0:\n",
    "    print(\"Yes! This number is divisible by 7:\")\n",
    "else:\n",
    "    print(\"O...O! This number is not divided by 7:\")\n",
    "    \n"
   ]
  },
  {
   "cell_type": "markdown",
   "id": "e37c77d6",
   "metadata": {},
   "source": [
    "### 4. Write a program to dispaly \"Hello\" if a number entered by user is a multiple of five, othervise print \"Bye\""
   ]
  },
  {
   "cell_type": "code",
   "execution_count": 8,
   "id": "f17704b5",
   "metadata": {},
   "outputs": [
    {
     "name": "stdout",
     "output_type": "stream",
     "text": [
      "Please enter the Number:999\n",
      "Bye:\n"
     ]
    }
   ],
   "source": [
    "a=int(input(\"Please enter the Number:\"))\n",
    "if a%5==0:\n",
    "    print(\"Yes!:\")\n",
    "else:\n",
    "    print(\"Bye:\")\n",
    "    \n"
   ]
  },
  {
   "cell_type": "markdown",
   "id": "f1047d43",
   "metadata": {},
   "source": [
    "### 5.Write a program to calculate the electricity bill (accept number of unit from user) according to the following criteria:\n",
    "###   Unit............................................Price\n",
    "#### First 100 unit.................................... charge\n",
    "#### Next 100 units................................... Rs 5 per unit\n",
    "#### after 200 units....................................Rs 10 per unit\n",
    "#### for example if input is 350 then total bill amount is Rs 2000\n",
    "\n"
   ]
  },
  {
   "cell_type": "code",
   "execution_count": 9,
   "id": "126a01c4",
   "metadata": {},
   "outputs": [
    {
     "name": "stdout",
     "output_type": "stream",
     "text": [
      "Enter the number of electrity unit:40000\n",
      "Amount to pay: 398500\n"
     ]
    }
   ],
   "source": [
    "amt=0\n",
    "unit=int(input(\"Enter the number of electrity unit:\"))\n",
    "if unit<=100:\n",
    "    amt=0\n",
    "if unit>100 and unit<=200:\n",
    "    amt=(amt-100)*5\n",
    "if unit >200:\n",
    "    amt=500+(unit-200)*10\n",
    "print(\"Amount to pay:\",amt)    \n",
    "    \n",
    "    "
   ]
  },
  {
   "cell_type": "code",
   "execution_count": 10,
   "id": "585ece6e",
   "metadata": {},
   "outputs": [
    {
     "name": "stdout",
     "output_type": "stream",
     "text": [
      "Enter the number40\n",
      "the last digit of number is 0\n"
     ]
    }
   ],
   "source": [
    "# Print last digit of number\n",
    "num=int(input(\"Enter the number\"))\n",
    "print(\"the last digit of number is\",num%10)"
   ]
  },
  {
   "cell_type": "markdown",
   "id": "06ecb814",
   "metadata": {},
   "source": [
    "#### Print the last digit of a number is divisible by 3            or not"
   ]
  },
  {
   "cell_type": "code",
   "execution_count": 11,
   "id": "c7924b42",
   "metadata": {},
   "outputs": [
    {
     "name": "stdout",
     "output_type": "stream",
     "text": [
      "Please enter the Number:666\n",
      "yes! it's last digit is divisible by 3\n"
     ]
    }
   ],
   "source": [
    "a=int(input(\"Please enter the Number:\"))\n",
    "b=a%10\n",
    "if b%3==0:\n",
    "    print(\"yes! it's last digit is divisible by 3\")\n",
    "else:\n",
    "    print(\"No!It is not divisible by 3\")    \n",
    "    \n"
   ]
  },
  {
   "cell_type": "code",
   "execution_count": 12,
   "id": "c35eb0da",
   "metadata": {},
   "outputs": [
    {
     "name": "stdout",
     "output_type": "stream",
     "text": [
      "enter the number:1900\n",
      "not leap year\n"
     ]
    }
   ],
   "source": [
    "x=int(input(\"enter the number:\"))\n",
    "if x%400==0:\n",
    "    print(\"leap year\")\n",
    "elif (x%100!=0) and (x%4==0):\n",
    "    print(\"leap year\")\n",
    "else:\n",
    "    print(\"not leap year\")"
   ]
  },
  {
   "cell_type": "code",
   "execution_count": 13,
   "id": "38af3424",
   "metadata": {},
   "outputs": [
    {
     "name": "stdout",
     "output_type": "stream",
     "text": [
      "Enter the Number students:89\n",
      " your Grade is: B\n"
     ]
    }
   ],
   "source": [
    "Marks=int(input(\"Enter the Number students:\"))\n",
    "if Marks > 90:\n",
    "    print(\" your Grade is: A\")\n",
    "elif Marks > 80 and Marks <= 90:\n",
    "    print(\" your Grade is: B\")\n",
    "elif Marks >=60 and Marks <=80:\n",
    "    print(\" your Grade is: C\")\n",
    "else:\n",
    "    print(\" your Grade is: D\")"
   ]
  },
  {
   "cell_type": "markdown",
   "id": "09a3b97d",
   "metadata": {},
   "source": [
    "## 6.write a program to accept the cost price of bike and display the road tax to be paid according to the following criteria\n",
    "\n",
    "### Cost price (in Rs)                               Tax\n",
    "\n",
    "##>100000 ..............................................15%\n",
    "\n",
    "##>50000 and <= 100000 ........................10%\n",
    "\n",
    "##<=50000.................................................5%"
   ]
  },
  {
   "cell_type": "code",
   "execution_count": 15,
   "id": "bd90bce2",
   "metadata": {},
   "outputs": [
    {
     "name": "stdout",
     "output_type": "stream",
     "text": [
      "Enter the cost:8888\n",
      "tax to be paid: 444.40000000000003\n"
     ]
    }
   ],
   "source": [
    "tax=0\n",
    "cost=int(input(\"Enter the cost:\"))\n",
    "if cost > 100000:\n",
    "    tax=15/100*cost\n",
    "elif (cost> 50000) and (cost <= 100000):\n",
    "    tax=10/100*cost\n",
    "else:\n",
    "    tax=5/100*cost\n",
    "print(\"tax to be paid:\",tax)"
   ]
  },
  {
   "cell_type": "markdown",
   "id": "6e6d9074",
   "metadata": {},
   "source": [
    "### 7.write a program to accept number from 1 to 7 dispaly the name of the day like 1 for sunday 2 for Monday and so on"
   ]
  },
  {
   "cell_type": "code",
   "execution_count": 16,
   "id": "3abffe3a",
   "metadata": {},
   "outputs": [
    {
     "name": "stdout",
     "output_type": "stream",
     "text": [
      "Enter the number:6\n",
      "Friday\n"
     ]
    }
   ],
   "source": [
    "num=int(input(\"Enter the number:\"))\n",
    "# for i in range(1,8):\n",
    "if num ==1:\n",
    "    print(\"Sunday\")\n",
    "elif num==2:\n",
    "    print(\"Monday\")\n",
    "elif num==3:\n",
    "    print(\"Tuesday\")\n",
    "elif num==4:\n",
    "    print(\"Wednesday\")\n",
    "elif num==5:\n",
    "    print(\"Thrusday\")\n",
    "elif num==6:\n",
    "    print(\"Friday\")\n",
    "elif num==7:\n",
    "    print(\"Saturday\")\n",
    "else:\n",
    "    print(\"Please enter the num between 1 to 7: \")"
   ]
  },
  {
   "cell_type": "markdown",
   "id": "040a67dd",
   "metadata": {},
   "source": [
    "### 8.Write a program to accept a number from 1 to 12 and dispaly name of the months and days in that month like for january and number of days 31 and so on"
   ]
  },
  {
   "cell_type": "code",
   "execution_count": 17,
   "id": "7fd86803",
   "metadata": {},
   "outputs": [
    {
     "name": "stdout",
     "output_type": "stream",
     "text": [
      "Enter the Number of months:00\n",
      "Please enter the number between 1 to 12!\n"
     ]
    }
   ],
   "source": [
    "num=int(input(\"Enter the Number of months:\"))\n",
    "if num ==1:\n",
    "    print(\" It's January! and number of days is 31\")\n",
    "elif num==2:\n",
    "    print(\" It's Febuary! and number of days is 28 or 29\")\n",
    "elif num==3:\n",
    "    print(\" It's March! and number of days is 31\")\n",
    "elif num==4:\n",
    "    print(\" It's April! and number of days is 30\")\n",
    "elif num==5:\n",
    "    print(\" It's May! and number of days is 31\")\n",
    "elif num==6:\n",
    "    print(\" It's June! and number of days is 30\")\n",
    "elif num==7:\n",
    "    print(\" It's July! and number of days is 31\")\n",
    "elif num==8:\n",
    "    print(\" It's August! and number of days is 31\")\n",
    "elif num==9:\n",
    "    print(\" It's September! and number of days is 30\")\n",
    "elif num ==10:\n",
    "    print(\" It's October! and number of days is 31\")\n",
    "elif num ==11:\n",
    "    print(\" It's November and number of days is 30\")\n",
    "elif num==12:\n",
    "    print(\" It's December! and number of days is 31\")\n",
    "else:\n",
    "    print(\"Please enter the number between 1 to 12!\")\n",
    "    \n",
    "    "
   ]
  },
  {
   "cell_type": "markdown",
   "id": "82b35089",
   "metadata": {},
   "source": [
    "## Python if else Statement Practice set-5\n",
    "#### 9. Accept the following from the user and calculate the percentage of the class attended:\n",
    "#### a. total Number of working days\n",
    "#### b.Total number of the days for absent\n",
    "\n",
    "#### After calculating the percentage show that, if the percentage is less than 75, then student will not be able to sit in exam.\n",
    "\n",
    "    "
   ]
  },
  {
   "cell_type": "code",
   "execution_count": 18,
   "id": "fc9fd35a",
   "metadata": {},
   "outputs": [
    {
     "name": "stdout",
     "output_type": "stream",
     "text": [
      "Enter the no. of  working days:76\n",
      " Enter the no. of absent_days:88888\n",
      "you are not able to sit in exam\n"
     ]
    }
   ],
   "source": [
    "working_days = int(input(\"Enter the no. of  working days:\"))\n",
    "absent_days = int(input(\" Enter the no. of absent_days:\"))\n",
    "percentage=((working_days-absent_days)*100)/working_days\n",
    "if percentage > 75.0:\n",
    "    print(\"go and take the exam:\")\n",
    "else: \n",
    "    print(\"you are not able to sit in exam\")"
   ]
  },
  {
   "cell_type": "code",
   "execution_count": 19,
   "id": "a2426f3d",
   "metadata": {},
   "outputs": [
    {
     "name": "stdout",
     "output_type": "stream",
     "text": [
      "Enter the number:999\n",
      "A+\n"
     ]
    }
   ],
   "source": [
    "per=int(input(\"Enter the number:\"))\n",
    "if per < 25:\n",
    "    print(\"D\")\n",
    "elif per in range(25,45):\n",
    "    print(\"C\")\n",
    "elif per in range(45,50):\n",
    "    print(\"B\")\n",
    "elif per in range(50,60): \n",
    "    print(\"B+\")\n",
    "elif per in range(60,80):\n",
    "    print(\"A\")\n",
    "elif per >= 80: \n",
    "    print(\"A+\")"
   ]
  },
  {
   "cell_type": "code",
   "execution_count": 20,
   "id": "85ecb33f",
   "metadata": {},
   "outputs": [
    {
     "data": {
      "text/plain": [
       "True"
      ]
     },
     "execution_count": 20,
     "metadata": {},
     "output_type": "execute_result"
    }
   ],
   "source": [
    "8>7<9\n"
   ]
  },
  {
   "cell_type": "code",
   "execution_count": 21,
   "id": "86bf6cff",
   "metadata": {},
   "outputs": [
    {
     "name": "stdout",
     "output_type": "stream",
     "text": [
      "Enter the temperature of water:87\n",
      "Not boiling\n"
     ]
    }
   ],
   "source": [
    "temp=int(input(\"Enter the temperature of water:\"))\n",
    "if temp >=100:\n",
    "    print(\"Water is boiling!\")\n",
    "else:\n",
    "    print(\"Not boiling\")"
   ]
  },
  {
   "cell_type": "code",
   "execution_count": null,
   "id": "d0bf4c0e",
   "metadata": {},
   "outputs": [],
   "source": []
  },
  {
   "cell_type": "code",
   "execution_count": null,
   "id": "2f6f7c24",
   "metadata": {},
   "outputs": [],
   "source": []
  },
  {
   "cell_type": "markdown",
   "id": "5b24cfc4",
   "metadata": {},
   "source": [
    "## 10.Write a program to accept two numbers and mathematical operators and perform operator accordingly"
   ]
  },
  {
   "cell_type": "code",
   "execution_count": 26,
   "id": "1f934037",
   "metadata": {},
   "outputs": [
    {
     "ename": "SyntaxError",
     "evalue": "invalid syntax (3516942287.py, line 4)",
     "output_type": "error",
     "traceback": [
      "\u001b[1;36m  File \u001b[1;32m\"C:\\Users\\Satish\\AppData\\Local\\Temp\\ipykernel_18884\\3516942287.py\"\u001b[1;36m, line \u001b[1;32m4\u001b[0m\n\u001b[1;33m    result= (num)operator(num2)\u001b[0m\n\u001b[1;37m                 ^\u001b[0m\n\u001b[1;31mSyntaxError\u001b[0m\u001b[1;31m:\u001b[0m invalid syntax\n"
     ]
    }
   ],
   "source": [
    "num1=int(input(\"Enter the 1st number:\"))\n",
    "num2=int(input(\"Enter the 2nd number:\"))\n",
    "operator=input(\"Enter the operator:\")\n",
    "result= \n",
    "print(result)"
   ]
  },
  {
   "cell_type": "markdown",
   "id": "0596e528",
   "metadata": {},
   "source": [
    "## 11. Accept the age, gender (\"M\",\"F\"), number of days and display the wages accordingly"
   ]
  },
  {
   "cell_type": "code",
   "execution_count": null,
   "id": "7e6387ba",
   "metadata": {},
   "outputs": [],
   "source": [
    "age=int(input(\"Enter the age\"))\n",
    "gender"
   ]
  }
 ],
 "metadata": {
  "kernelspec": {
   "display_name": "Python 3 (ipykernel)",
   "language": "python",
   "name": "python3"
  },
  "language_info": {
   "codemirror_mode": {
    "name": "ipython",
    "version": 3
   },
   "file_extension": ".py",
   "mimetype": "text/x-python",
   "name": "python",
   "nbconvert_exporter": "python",
   "pygments_lexer": "ipython3",
   "version": "3.9.13"
  }
 },
 "nbformat": 4,
 "nbformat_minor": 5
}
