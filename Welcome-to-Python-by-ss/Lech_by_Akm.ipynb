{
 "cells": [
  {
   "cell_type": "markdown",
   "id": "2543bb00",
   "metadata": {},
   "source": [
    "### a=int(input(\"Enter the value of 1st Number:\"))\n",
    "b=int(input(\"Enter the value of 2nd Number:\"))\n",
    "c=a+b\n",
    "d=a-b\n",
    "e=a*b\n",
    "if b==0:\n",
    "    print(\"denominator should not be zero for the division and modulo\")\n",
    "else:\n",
    "    f=a/b\n",
    "    g=a%b\n",
    "    h=a//b\n",
    "    #print(f\"the division of {a},{b},{f}\")\n",
    "    print(f\"the division_with float value of {a},{b} is:{f}\")\n",
    "    print(f\"the modulo of {a},{b} is:{g}\")\n",
    "    print(f\"the division with int value of {a},{b} is:{h}\")   \n",
    "\n",
    "print(f\"the addition of {a},{b} is:{c}\")\n",
    "print(f\"the subtraction of {a},{b} is:{d}\")  \n",
    "print(f\"the multiplication of {a},{b} is:{e}\") \n",
    "\n",
    "\n",
    "\n",
    "\n",
    "\n",
    "\n",
    "       "
   ]
  },
  {
   "cell_type": "code",
   "execution_count": 1,
   "id": "176b6f39",
   "metadata": {},
   "outputs": [],
   "source": [
    "# a=input(\"Enter 1st Element\")\n",
    "# b=input(\"Enter 2nd Element\")\n",
    "# c=a+b\n",
    "# print(c.isnumeric())"
   ]
  },
  {
   "cell_type": "markdown",
   "id": "26f98056",
   "metadata": {},
   "source": [
    "#### a=input(\"Enter 1st Element:\")\n",
    "b=input(\"Enter 2nd Element:\")\n",
    "if a.isnumeric() and b.isnumeric() :\n",
    "     print(int(a)+int(b))\n",
    "else:\n",
    "    if(((a.isnumeric()==True) and (b.isnumeric()==False)or ((a.isnumeric()==False) and (b.isnumeric()==True)))):\n",
    "        print(\"invalid\")\n",
    "    else:\n",
    "        print(a+b)\n",
    "        if (((a.isfloat()==True) and (b.isnumeric()==False)or ((a.isnumeric()==False) and (b.isnumeric()==True)))):\n",
    "            print(\"Invalid\")"
   ]
  },
  {
   "cell_type": "code",
   "execution_count": 3,
   "id": "e52abd8e",
   "metadata": {},
   "outputs": [
    {
     "name": "stdout",
     "output_type": "stream",
     "text": [
      "Enter the year:3333\n",
      "yes leap year\n"
     ]
    }
   ],
   "source": [
    "n=int(input(\"Enter the year:\"))\n",
    "if n%400==0: \n",
    "    print(\"yes! It's leap year\")\n",
    "else:\n",
    "    if n%100!=0 and n%4==0:\n",
    "        print(\"not leap year\")\n",
    "    else:\n",
    "        print(\"yes leap year\")"
   ]
  },
  {
   "cell_type": "code",
   "execution_count": null,
   "id": "da765cd4",
   "metadata": {},
   "outputs": [],
   "source": [
    "# n=int(input(\"enter the number of the elements:\"))\n",
    "# sum1=0\n",
    "# for i in range(1,n+1):\n",
    "#     a=input(f\"enter the {i}th number\")\n",
    "#     if(a.isnumeric()):\n",
    "#         sum1+=int(a)\n",
    "#     else:\n",
    "#         pass\n",
    "# print(sum1)"
   ]
  },
  {
   "cell_type": "markdown",
   "id": "d377717a",
   "metadata": {},
   "source": [
    "## "
   ]
  }
 ],
 "metadata": {
  "kernelspec": {
   "display_name": "Python 3 (ipykernel)",
   "language": "python",
   "name": "python3"
  },
  "language_info": {
   "codemirror_mode": {
    "name": "ipython",
    "version": 3
   },
   "file_extension": ".py",
   "mimetype": "text/x-python",
   "name": "python",
   "nbconvert_exporter": "python",
   "pygments_lexer": "ipython3",
   "version": "3.9.13"
  }
 },
 "nbformat": 4,
 "nbformat_minor": 5
}
