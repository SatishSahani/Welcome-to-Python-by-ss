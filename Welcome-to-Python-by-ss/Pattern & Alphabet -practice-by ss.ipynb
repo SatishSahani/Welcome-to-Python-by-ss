{
 "cells": [
  {
   "cell_type": "markdown",
   "id": "cd28d97e",
   "metadata": {},
   "source": [
    "# Pattern & Alphabet's with Satish"
   ]
  },
  {
   "cell_type": "code",
   "execution_count": 1,
   "id": "bad087da",
   "metadata": {},
   "outputs": [
    {
     "name": "stdout",
     "output_type": "stream",
     "text": [
      "    *   \n",
      "  *     \n",
      "*       \n",
      "        \n"
     ]
    }
   ],
   "source": [
    "for i in range(4):\n",
    "    for j in range(4):\n",
    "        #if (i==0 and j==2)or (i==1 and j==1)or(i==2 and j==0):\n",
    "        if (i==0 and j in [2])or (i==1 and j in [1])or (i==2 and j in [0]):\n",
    "            print(\"*\", end=\" \")\n",
    "        else:\n",
    "            print(\" \",end=\" \")\n",
    "    print(\"\")    "
   ]
  },
  {
   "cell_type": "code",
   "execution_count": 2,
   "id": "18c6a8d6",
   "metadata": {},
   "outputs": [
    {
     "name": "stdout",
     "output_type": "stream",
     "text": [
      "*     \n",
      "  *   \n",
      "    * \n"
     ]
    }
   ],
   "source": [
    "for i in range(3):\n",
    "    for j in range(3):\n",
    "        if i==j:\n",
    "            print(\"*\", end=\" \")\n",
    "        else:\n",
    "            print(\" \", end=\" \")\n",
    "    print(\"\")"
   ]
  },
  {
   "cell_type": "code",
   "execution_count": 3,
   "id": "7d5a796d",
   "metadata": {},
   "outputs": [
    {
     "name": "stdout",
     "output_type": "stream",
     "text": [
      "*   * \n",
      "  *   \n",
      "*   * \n"
     ]
    }
   ],
   "source": [
    "for i in range(3):\n",
    "    for j in range(3):\n",
    "        if (i == 2 and j == 0) or (i == 1 and j == 1) or (i == 0 and j == 2)or (i==j):\n",
    "            print(\"*\", end=\" \")\n",
    "        else:\n",
    "            print(\" \", end=\" \")\n",
    "    print(\"\")\n"
   ]
  },
  {
   "cell_type": "code",
   "execution_count": 4,
   "id": "a885d774",
   "metadata": {},
   "outputs": [
    {
     "name": "stdout",
     "output_type": "stream",
     "text": [
      "  *   \n",
      "*   * \n",
      "*   * \n"
     ]
    }
   ],
   "source": [
    "for i in range(3):\n",
    "    for j in range(3):\n",
    "        if (i==0 and j==1)or (i==1 and j in [0,2])or(i==2 and j in [0,2]):\n",
    "            print(\"*\", end=\" \")\n",
    "        else:\n",
    "            print(\" \",end=\" \")\n",
    "    print(\"\")       "
   ]
  },
  {
   "cell_type": "code",
   "execution_count": 5,
   "id": "de75e393",
   "metadata": {},
   "outputs": [
    {
     "name": "stdout",
     "output_type": "stream",
     "text": [
      "    *     \n",
      "  * * *   \n",
      "* * * * * \n"
     ]
    }
   ],
   "source": [
    "for i in range(3):\n",
    "    for j in range(5):\n",
    "        if (i==2)or (i==1 and j not in [0,4])or (i==0 and j ==2):\n",
    "            print(\"* \",end=\"\")\n",
    "        else:\n",
    "            print(\" \", end=\" \")\n",
    "    print(\"\")        "
   ]
  },
  {
   "cell_type": "code",
   "execution_count": 6,
   "id": "9936102f",
   "metadata": {},
   "outputs": [
    {
     "name": "stdout",
     "output_type": "stream",
     "text": [
      "# # # # # # # # # # \n",
      "  #             #   \n",
      "    #         #     \n",
      "      #     #       \n",
      "          #         \n"
     ]
    }
   ],
   "source": [
    "for i in range(5):\n",
    "    for j in range(10):\n",
    "        if (i==0)or (i==1 and j in [1,8])or (i==2 and j in [2,7])or (i==3 and j in [3,6])or (i==4 and j==5):\n",
    "            print( \"#\",end=\" \")\n",
    "        else:\n",
    "            print(\" \",end=\" \")\n",
    "    print(\"\")        "
   ]
  },
  {
   "cell_type": "code",
   "execution_count": 7,
   "id": "5c2ebd58",
   "metadata": {},
   "outputs": [
    {
     "name": "stdout",
     "output_type": "stream",
     "text": [
      "# # # \n",
      "#   # \n",
      "# # # \n",
      "#   # \n",
      "#   # \n"
     ]
    }
   ],
   "source": [
    "for i in range(5):\n",
    "    for j in range(3):\n",
    "        if (i==0)or (j==0)or (j==2)or i==2:\n",
    "            print(\"#\",end=\" \")\n",
    "        else:\n",
    "            print(\" \",end=\" \")\n",
    "    print(\"\")\n",
    "    \n",
    "   ## print \"A\"         "
   ]
  },
  {
   "cell_type": "code",
   "execution_count": 25,
   "id": "d0975290",
   "metadata": {},
   "outputs": [
    {
     "name": "stdout",
     "output_type": "stream",
     "text": [
      "# # # #  \n",
      "  #   #  \n",
      "  # #    \n",
      "  #   #  \n",
      "# # # #  \n"
     ]
    }
   ],
   "source": [
    "for i in range(5):\n",
    "    for j in range(4):\n",
    "        if (j==1)or (i==0)or (i==4)or (j==3 and i not in [2])or(j==2 and i not in [1,3]):\n",
    "            print(\"#\",end=\" \")\n",
    "        else:\n",
    "            print(\" \",end=\" \")\n",
    "    print(\" \")  \n",
    "    # print(\" B \")"
   ]
  },
  {
   "cell_type": "code",
   "execution_count": 118,
   "id": "b191943e",
   "metadata": {},
   "outputs": [
    {
     "name": "stdout",
     "output_type": "stream",
     "text": [
      "  # # #    \n",
      "#          \n",
      "#          \n",
      "#          \n",
      "  # # #    \n"
     ]
    }
   ],
   "source": [
    "for i in range(5):\n",
    "    for j in range(5):\n",
    "        if (i==0 and j not in [0,4])or(i==4 and j not in [0,4])or(j==0 and i not in [0,4]):\n",
    "            print(\"#\",end=\" \")\n",
    "        else:\n",
    "            print(\" \",end=\" \")\n",
    "    print(\" \")     \n",
    "    \n",
    "    #print(\"C\")"
   ]
  },
  {
   "cell_type": "code",
   "execution_count": 123,
   "id": "455b470b",
   "metadata": {},
   "outputs": [
    {
     "name": "stdout",
     "output_type": "stream",
     "text": [
      "  # # # #  \n",
      "    #   #  \n",
      "    #   #  \n",
      "    #   #  \n",
      "  # # # #  \n"
     ]
    }
   ],
   "source": [
    "for i in range(5):\n",
    "    for j in range(5):\n",
    "        if (j==2)or (i==0 and j not in [0])or (i==4 and j not in [0]) or j==4:\n",
    "            print(\"#\",end=\" \")\n",
    "        else:\n",
    "            print(\" \",end=\" \")\n",
    "    print(\" \")       \n",
    "    \n",
    "    #print(\" D \")"
   ]
  },
  {
   "cell_type": "code",
   "execution_count": 50,
   "id": "da767b3e",
   "metadata": {},
   "outputs": [
    {
     "name": "stdout",
     "output_type": "stream",
     "text": [
      "# # #  \n",
      "#      \n",
      "# # #  \n",
      "#      \n",
      "# # #  \n"
     ]
    }
   ],
   "source": [
    "for i in range(5):\n",
    "    for j in range(3):\n",
    "        if (j==0)or (i==0)or (i==2)or (i==4):\n",
    "            print(\"#\",end=\" \")\n",
    "        else:\n",
    "            print(\" \",end=\" \")\n",
    "    print(\" \")  \n",
    "    # print(\" E \")"
   ]
  },
  {
   "cell_type": "code",
   "execution_count": 52,
   "id": "2d923e64",
   "metadata": {},
   "outputs": [
    {
     "name": "stdout",
     "output_type": "stream",
     "text": [
      "# # #  \n",
      "#      \n",
      "# # #  \n",
      "#      \n",
      "#      \n"
     ]
    }
   ],
   "source": [
    "for i in range(5):\n",
    "    for j in range(3):\n",
    "        if (j==0)or (i==0)or (i==2):\n",
    "            print(\"#\",end=\" \")\n",
    "        else:\n",
    "            print(\" \",end=\" \")\n",
    "    print(\" \")  \n",
    "    # print(\" F \")"
   ]
  },
  {
   "cell_type": "code",
   "execution_count": 77,
   "id": "7cfaee7e",
   "metadata": {},
   "outputs": [
    {
     "name": "stdout",
     "output_type": "stream",
     "text": [
      "@ @ @ @ @ \n",
      "@         \n",
      "@   @ @ @ \n",
      "@   @   @ \n",
      "@ @ @   @ \n"
     ]
    }
   ],
   "source": [
    "for i in range(5):\n",
    "    for j in range(5):\n",
    "        if (j==0)or (i==0)or (i==2 and j not in [1])or (i==4 and j not in [3] )or(i==3 and j not in [1,3]):\n",
    "            print(\"@\",end=\" \")\n",
    "        else:\n",
    "            print(\" \",end=\" \")\n",
    "    print(\"\")  \n",
    "    # print(\" G \")"
   ]
  },
  {
   "cell_type": "code",
   "execution_count": 79,
   "id": "18f07562",
   "metadata": {},
   "outputs": [
    {
     "name": "stdout",
     "output_type": "stream",
     "text": [
      "#       #  \n",
      "#       #  \n",
      "# # # # #  \n",
      "#       #  \n",
      "#       #  \n"
     ]
    }
   ],
   "source": [
    "for i in range(5):\n",
    "    for j in range(5):\n",
    "        if (j==0)or j==4 or i==2 :\n",
    "            print(\"#\",end=\" \")\n",
    "        else:\n",
    "            print(\" \",end=\" \")\n",
    "    print(\" \")     \n",
    "    \n",
    "    #print(\"H\")"
   ]
  },
  {
   "cell_type": "code",
   "execution_count": 14,
   "id": "663ce395",
   "metadata": {},
   "outputs": [
    {
     "name": "stdout",
     "output_type": "stream",
     "text": [
      "# # # # #  \n",
      "    #      \n",
      "    #      \n",
      "    #      \n",
      "# # # # #  \n"
     ]
    }
   ],
   "source": [
    "for i in range(5):\n",
    "    for j in range(5):\n",
    "        if (j==2)or (i==0)or i==4:\n",
    "            print(\"#\",end=\" \")\n",
    "        else:\n",
    "            print(\" \",end=\" \")\n",
    "    print(\" \")       "
   ]
  },
  {
   "cell_type": "code",
   "execution_count": 84,
   "id": "1c1b1973",
   "metadata": {},
   "outputs": [
    {
     "name": "stdout",
     "output_type": "stream",
     "text": [
      "# # # # #  \n",
      "    #      \n",
      "    #      \n",
      "#   #      \n",
      "# # #      \n"
     ]
    }
   ],
   "source": [
    "for i in range(5):\n",
    "    for j in range(5):\n",
    "        if (j==2)or (i==0)or j==0 and i in [3,4] or j==1 and i==4:\n",
    "            print(\"#\",end=\" \")\n",
    "        else:\n",
    "            print(\" \",end=\" \")\n",
    "    print(\" \")       "
   ]
  },
  {
   "cell_type": "code",
   "execution_count": 91,
   "id": "cc06d197",
   "metadata": {},
   "outputs": [
    {
     "name": "stdout",
     "output_type": "stream",
     "text": [
      "@     @ \n",
      "@   @   \n",
      "@ @     \n",
      "@   @   \n",
      "@     @ \n"
     ]
    }
   ],
   "source": [
    "for i in range(5):\n",
    "    for j in range(4):\n",
    "        if (j==0)or(i==2 and j in [1])or(j==2 and i in [1,3])or (j==3 and i in [0,4]):\n",
    "            print(\"@\",end=\" \")\n",
    "        else:\n",
    "            print(\" \",end=\" \")\n",
    "    print(\"\")\n",
    "    \n",
    "    #print(\" K \")"
   ]
  },
  {
   "cell_type": "code",
   "execution_count": 97,
   "id": "403cfc04",
   "metadata": {},
   "outputs": [
    {
     "name": "stdout",
     "output_type": "stream",
     "text": [
      "*        \n",
      "*        \n",
      "*        \n",
      "*        \n",
      "* * * *  \n"
     ]
    }
   ],
   "source": [
    "for i in range(5):\n",
    "    for j in range(4):\n",
    "        if j==0 or i==4:\n",
    "            print(\"*\",end=\" \")\n",
    "        else:\n",
    "            print(\" \",end=\" \")\n",
    "    print(\" \")       "
   ]
  },
  {
   "cell_type": "code",
   "execution_count": 102,
   "id": "4f42cd56",
   "metadata": {},
   "outputs": [
    {
     "name": "stdout",
     "output_type": "stream",
     "text": [
      "#       #  \n",
      "# #   # #  \n",
      "#   #   #  \n",
      "#       #  \n",
      "#       #  \n"
     ]
    }
   ],
   "source": [
    "for i in range(5):\n",
    "    for j in range(5):\n",
    "        if (j==0)or j==4 or (i==2 and j not in [1,3])or (i==1 and j in [1,3]) :\n",
    "            print(\"#\",end=\" \")\n",
    "        else:\n",
    "            print(\" \",end=\" \")\n",
    "    print(\" \")     \n",
    "    \n",
    "    #print(\"M\")"
   ]
  },
  {
   "cell_type": "code",
   "execution_count": 105,
   "id": "870037cc",
   "metadata": {},
   "outputs": [
    {
     "name": "stdout",
     "output_type": "stream",
     "text": [
      "#       #  \n",
      "# #     #  \n",
      "#   #   #  \n",
      "#     # #  \n",
      "#       #  \n"
     ]
    }
   ],
   "source": [
    "for i in range(5):\n",
    "    for j in range(5):\n",
    "        if (j==0)or (j==4) or (i==j) :\n",
    "            print(\"#\",end=\" \")\n",
    "        else:\n",
    "            print(\" \",end=\" \")\n",
    "    print(\" \")     \n",
    "    \n",
    "    #print(\"N\")"
   ]
  },
  {
   "cell_type": "code",
   "execution_count": 124,
   "id": "23edd0d9",
   "metadata": {},
   "outputs": [
    {
     "name": "stdout",
     "output_type": "stream",
     "text": [
      "  # # #    \n",
      "#       #  \n",
      "#       #  \n",
      "#       #  \n",
      "  # # #    \n"
     ]
    }
   ],
   "source": [
    "for i in range(5):\n",
    "    for j in range(5):\n",
    "        if (i==0 and j not in [0,4])or(i==4 and j not in [0,4])or(j==0 and i not in [0,4])or (j==4 and i not in [0,4]):\n",
    "            print(\"#\",end=\" \")\n",
    "        else:\n",
    "            print(\" \",end=\" \")\n",
    "    print(\" \")     \n",
    "    \n",
    "    #print(\"O\")"
   ]
  },
  {
   "cell_type": "code",
   "execution_count": 83,
   "id": "ca40a9c8",
   "metadata": {},
   "outputs": [
    {
     "name": "stdout",
     "output_type": "stream",
     "text": [
      "# # # \n",
      "#   # \n",
      "# # # \n",
      "#     \n",
      "#     \n"
     ]
    }
   ],
   "source": [
    "for i in range(5):\n",
    "    for j in range(3):\n",
    "        if (i==0)or (j==0)or (j==2 and i not in [3,4])or i==2:\n",
    "            print(\"#\",end=\" \")\n",
    "        else:\n",
    "            print(\" \",end=\" \")\n",
    "    print(\"\")       \n",
    "            \n",
    "   ## Print \"P\"         "
   ]
  },
  {
   "cell_type": "code",
   "execution_count": 132,
   "id": "c1e6dc00",
   "metadata": {},
   "outputs": [
    {
     "name": "stdout",
     "output_type": "stream",
     "text": [
      "  # # #    \n",
      "#       #  \n",
      "#       #  \n",
      "#     # #  \n",
      "  # # # #  \n"
     ]
    }
   ],
   "source": [
    "for i in range(5):\n",
    "    for j in range(5):\n",
    "        if (i==0 and j not in [0,4])or(i==4 and j not in [0,4])or(j==0 and i not in [0,4])or (j==4 and i not in [0])or (i==3 and j not in [1,2]):\n",
    "            print(\"#\",end=\" \")\n",
    "        else:\n",
    "            print(\" \",end=\" \")\n",
    "    print(\" \")     \n",
    "    \n",
    "    #print(\"Q\")"
   ]
  },
  {
   "cell_type": "code",
   "execution_count": 9,
   "id": "b174cb9a",
   "metadata": {},
   "outputs": [
    {
     "name": "stdout",
     "output_type": "stream",
     "text": [
      "# # # \n",
      "#   # \n",
      "# # # \n",
      "# #   \n",
      "#   # \n"
     ]
    }
   ],
   "source": [
    "for i in range(5):\n",
    "    for j in range(3):\n",
    "        if (i==0)or (j==0)or (j==2 and i not in [3])or i==2 or j==1 and i not in [1,4]:\n",
    "            \n",
    "            print(\"#\",end=\" \")\n",
    "        else:\n",
    "            print(\" \",end=\" \")\n",
    "    print(\"\")       \n",
    "    \n",
    "    ## print (\" R\")"
   ]
  },
  {
   "cell_type": "code",
   "execution_count": 174,
   "id": "4826bd90",
   "metadata": {},
   "outputs": [
    {
     "name": "stdout",
     "output_type": "stream",
     "text": [
      "  # # #  \n",
      "#        \n",
      "# # #    \n",
      "      #  \n",
      "# # #    \n"
     ]
    }
   ],
   "source": [
    "for i in range(5):\n",
    "    for j in range(4):\n",
    "        if (i==0 and j not in [0])or (j==0 and i not in [0,3])or (i==2 and j not in [3])or j==3 and i in [3]or (i==4 and j not in [0,3]): \n",
    "            print(\"#\",end=\" \")\n",
    "        else:\n",
    "            print(\" \",end=\" \")\n",
    "    print(\" \")\n",
    "        \n",
    "        #print(\" S \")"
   ]
  },
  {
   "cell_type": "code",
   "execution_count": 11,
   "id": "10ba5dff",
   "metadata": {},
   "outputs": [
    {
     "name": "stdout",
     "output_type": "stream",
     "text": [
      "# # # # #  \n",
      "    #      \n",
      "    #      \n",
      "    #      \n",
      "    #      \n"
     ]
    }
   ],
   "source": [
    "for i in range(5):\n",
    "    for j in range(5):\n",
    "        if (j==2)or (i==0):\n",
    "            print(\"#\",end=\" \")\n",
    "        else:\n",
    "            print(\" \",end=\" \")\n",
    "    print(\" \")       "
   ]
  },
  {
   "cell_type": "code",
   "execution_count": 214,
   "id": "532c1a0c",
   "metadata": {},
   "outputs": [
    {
     "name": "stdout",
     "output_type": "stream",
     "text": [
      "#       #  \n",
      "#       #  \n",
      "#       #  \n",
      "#       #  \n",
      "# # # # #  \n"
     ]
    }
   ],
   "source": [
    "for i in range(5):\n",
    "    for j in range(5):\n",
    "        if (i==4)or(j==0)or (j==4):\n",
    "            print(\"#\",end=\" \")\n",
    "        else:\n",
    "            print(\" \",end=\" \")\n",
    "    print(\" \")   \n",
    "    \n",
    "    #print(\"U\")"
   ]
  },
  {
   "cell_type": "code",
   "execution_count": 216,
   "id": "704deb87",
   "metadata": {},
   "outputs": [
    {
     "name": "stdout",
     "output_type": "stream",
     "text": [
      "#       #  \n",
      "  #   #    \n",
      "    #      \n"
     ]
    }
   ],
   "source": [
    "for i in range(3):\n",
    "    for j in range(5):\n",
    "        if (i==0 and j in [0,4])or(i==1 and j in [1,3])or(i==2 and j in [2]):\n",
    "            print(\"#\",end=\" \")\n",
    "        else:\n",
    "            print(\" \",end=\" \")\n",
    "    print(\" \")  \n",
    "  \n",
    "#print(\"v\")"
   ]
  },
  {
   "cell_type": "code",
   "execution_count": 218,
   "id": "0c4d4083",
   "metadata": {},
   "outputs": [
    {
     "name": "stdout",
     "output_type": "stream",
     "text": [
      "#       #  \n",
      "#       #  \n",
      "#   #   #  \n",
      "# #   # #  \n",
      "#       #  \n"
     ]
    }
   ],
   "source": [
    "for i in range(5):\n",
    "    for j in range(5):\n",
    "        if (j==0)or j==4 or (i==2 and j not in [1,3])or (i==3 and j in[1,3]) :\n",
    "            print(\"#\",end=\" \")\n",
    "        else:\n",
    "            print(\" \",end=\" \")\n",
    "    print(\" \")     \n",
    "    \n",
    "    #print(\"W\")"
   ]
  },
  {
   "cell_type": "code",
   "execution_count": 228,
   "id": "320b99f7",
   "metadata": {},
   "outputs": [
    {
     "name": "stdout",
     "output_type": "stream",
     "text": [
      "#       #  \n",
      "  #   #    \n",
      "    #      \n",
      "  #   #    \n",
      "#       #  \n"
     ]
    }
   ],
   "source": [
    "for i in range(5):\n",
    "    for j in range(5):\n",
    "        if (i==0 and j in [0,4]) or (i==1 and j in [1,3]) or (i==2 and j in [2])or (i==3 and j in [1,3])or (i==4 and j in [0,4]):\n",
    "            print(\"#\",end=\" \")\n",
    "        else:\n",
    "            print(\" \",end=\" \")\n",
    "    print(\" \")     \n",
    "    \n",
    "    #print(\"X\")"
   ]
  },
  {
   "cell_type": "code",
   "execution_count": 233,
   "id": "5445522d",
   "metadata": {},
   "outputs": [
    {
     "name": "stdout",
     "output_type": "stream",
     "text": [
      "#       #  \n",
      "  #   #    \n",
      "    #      \n",
      "    #      \n",
      "    #      \n"
     ]
    }
   ],
   "source": [
    "for i in range(5):\n",
    "    for j in range(5):\n",
    "        if (i==0 and j in [0,4]) or (i==1 and j in [1,3]) or (i==2 and j in [2])or (j==2 and i not in [0,1]):\n",
    "              print(\"#\",end=\" \")\n",
    "        else:\n",
    "            print(\" \",end=\" \")\n",
    "    print(\" \")     \n",
    "    \n",
    "    #print(\"X\")"
   ]
  },
  {
   "cell_type": "code",
   "execution_count": 235,
   "id": "a3fc87af",
   "metadata": {},
   "outputs": [
    {
     "name": "stdout",
     "output_type": "stream",
     "text": [
      "# # # # #  \n",
      "      #    \n",
      "    #      \n",
      "  #        \n",
      "# # # # #  \n"
     ]
    }
   ],
   "source": [
    "for i in range(5):\n",
    "    for j in range(5):\n",
    "        if (i==0) or (i==4)or (i==1 and j in [3])or(i==2 and j in [2])or (i==3 and j in [1]):\n",
    "              print(\"#\",end=\" \")\n",
    "        else:\n",
    "            print(\" \",end=\" \")\n",
    "    print(\" \")     \n",
    "    \n",
    "    #print(\"X\")"
   ]
  },
  {
   "cell_type": "code",
   "execution_count": null,
   "id": "b625d798",
   "metadata": {},
   "outputs": [],
   "source": []
  }
 ],
 "metadata": {
  "kernelspec": {
   "display_name": "Python 3 (ipykernel)",
   "language": "python",
   "name": "python3"
  },
  "language_info": {
   "codemirror_mode": {
    "name": "ipython",
    "version": 3
   },
   "file_extension": ".py",
   "mimetype": "text/x-python",
   "name": "python",
   "nbconvert_exporter": "python",
   "pygments_lexer": "ipython3",
   "version": "3.9.13"
  }
 },
 "nbformat": 4,
 "nbformat_minor": 5
}
