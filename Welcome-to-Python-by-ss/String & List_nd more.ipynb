{
 "cells": [
  {
   "cell_type": "code",
   "execution_count": 3,
   "id": "07b1b6d7",
   "metadata": {},
   "outputs": [
    {
     "name": "stdout",
     "output_type": "stream",
     "text": [
      "1,2,3,4\n",
      "[1, 2, 3, 4]\n"
     ]
    }
   ],
   "source": [
    "a=list(map(int,input().split(\",\")))\n",
    "print(a)"
   ]
  },
  {
   "cell_type": "code",
   "execution_count": 4,
   "id": "28df525c",
   "metadata": {},
   "outputs": [
    {
     "name": "stdout",
     "output_type": "stream",
     "text": [
      "1,2,3\n",
      "<map object at 0x00000190C176CB20>\n"
     ]
    }
   ],
   "source": [
    "a=map(float,input().split(\",\"))\n",
    "print(a)"
   ]
  },
  {
   "cell_type": "code",
   "execution_count": 5,
   "id": "d309b278",
   "metadata": {
    "scrolled": true
   },
   "outputs": [
    {
     "name": "stdout",
     "output_type": "stream",
     "text": [
      "1.0\n",
      "2.0\n",
      "3.0\n"
     ]
    }
   ],
   "source": [
    "for i in a:\n",
    "    print(i)"
   ]
  },
  {
   "cell_type": "code",
   "execution_count": 6,
   "id": "57ab5bb8",
   "metadata": {},
   "outputs": [
    {
     "data": {
      "text/plain": [
       "{1, 2, 3, 4, 5}"
      ]
     },
     "execution_count": 6,
     "metadata": {},
     "output_type": "execute_result"
    }
   ],
   "source": [
    "a=[{1,2,3,4,5}]\n",
    "a[0]"
   ]
  },
  {
   "cell_type": "code",
   "execution_count": 7,
   "id": "08fe1947",
   "metadata": {},
   "outputs": [],
   "source": [
    "#help(list)"
   ]
  },
  {
   "cell_type": "code",
   "execution_count": 8,
   "id": "a920c09d",
   "metadata": {},
   "outputs": [
    {
     "name": "stdout",
     "output_type": "stream",
     "text": [
      "My name is satish sahani sahani\n"
     ]
    }
   ],
   "source": [
    "text=\"my Name Is Satish Sahani Sahani\"\n",
    "result=text.capitalize()              #capitalize()\n",
    "print(result)"
   ]
  },
  {
   "cell_type": "code",
   "execution_count": 9,
   "id": "49eb14ff",
   "metadata": {},
   "outputs": [
    {
     "name": "stdout",
     "output_type": "stream",
     "text": [
      "my name is satish sahani sahani\n"
     ]
    }
   ],
   "source": [
    "result1=text.casefold()          # casefold() is also known as lower case\n",
    "print(result1)\n"
   ]
  },
  {
   "cell_type": "code",
   "execution_count": 10,
   "id": "c03aab6d",
   "metadata": {},
   "outputs": [
    {
     "name": "stdout",
     "output_type": "stream",
     "text": [
      "****my Name Is Satish Sahani Sahani*****\n"
     ]
    }
   ],
   "source": [
    "result2=text.center(40,'*')     # center(20,'*') \n",
    "print(result2)"
   ]
  },
  {
   "cell_type": "code",
   "execution_count": 11,
   "id": "0b851395",
   "metadata": {},
   "outputs": [
    {
     "name": "stdout",
     "output_type": "stream",
     "text": [
      "2\n"
     ]
    }
   ],
   "source": [
    "text = \"hello, hello, world!\"\n",
    "result = text.count(\"hello\")     #count()\n",
    "print(result)  # Output"
   ]
  },
  {
   "cell_type": "code",
   "execution_count": 12,
   "id": "34a0b519",
   "metadata": {},
   "outputs": [
    {
     "name": "stdout",
     "output_type": "stream",
     "text": [
      "2\n"
     ]
    }
   ],
   "source": [
    "b=\"satish,satish,naveen,naveen\"\n",
    "c=b.count(\"satish\")                    # endwith()\n",
    "print(c)"
   ]
  },
  {
   "cell_type": "code",
   "execution_count": 13,
   "id": "22b98276",
   "metadata": {},
   "outputs": [
    {
     "name": "stdout",
     "output_type": "stream",
     "text": [
      "True\n"
     ]
    }
   ],
   "source": [
    "result3=b.endswith(\"naveen\")\n",
    "print(result3)"
   ]
  },
  {
   "cell_type": "code",
   "execution_count": 14,
   "id": "e97a447e",
   "metadata": {},
   "outputs": [
    {
     "name": "stdout",
     "output_type": "stream",
     "text": [
      "4\n"
     ]
    }
   ],
   "source": [
    "hi=\"the name of pg is AKs\"\n",
    "result4=hi.find(\"name\")     # find()\n",
    "print(result4)"
   ]
  },
  {
   "cell_type": "code",
   "execution_count": 15,
   "id": "d21e1964",
   "metadata": {},
   "outputs": [
    {
     "name": "stdout",
     "output_type": "stream",
     "text": [
      "My name is Satish and my age 45\n"
     ]
    }
   ],
   "source": [
    "name=\"Satish\"                   # format()\n",
    "age=45\n",
    "result=\"My name is {} and my age {}\".format(name,age)\n",
    "print(result)"
   ]
  },
  {
   "cell_type": "code",
   "execution_count": 16,
   "id": "2e47637d",
   "metadata": {},
   "outputs": [
    {
     "data": {
      "text/plain": [
       "True"
      ]
     },
     "execution_count": 16,
     "metadata": {},
     "output_type": "execute_result"
    }
   ],
   "source": [
    "test=\"123Hello\"\n",
    "result=test.isalnum()\n",
    "result\n"
   ]
  },
  {
   "cell_type": "code",
   "execution_count": 17,
   "id": "14f0c2d9",
   "metadata": {},
   "outputs": [
    {
     "name": "stdout",
     "output_type": "stream",
     "text": [
      "False\n"
     ]
    }
   ],
   "source": [
    "class myclass():         # Bool fun give False\n",
    "  def __len__(self):\n",
    "    return 0\n",
    "\n",
    "myobj = myclass()\n",
    "print(bool(myobj))"
   ]
  },
  {
   "cell_type": "code",
   "execution_count": 18,
   "id": "e16f9bae",
   "metadata": {},
   "outputs": [
    {
     "name": "stdout",
     "output_type": "stream",
     "text": [
      "True\n"
     ]
    }
   ],
   "source": [
    "def my_fun():      # bool fun give ture \n",
    "    return True\n",
    "print(my_fun())"
   ]
  },
  {
   "cell_type": "code",
   "execution_count": 19,
   "id": "a1fdeca5",
   "metadata": {},
   "outputs": [
    {
     "name": "stdout",
     "output_type": "stream",
     "text": [
      "yes\n"
     ]
    }
   ],
   "source": [
    "def my_Fun():\n",
    "    return True\n",
    "if my_Fun():\n",
    "    print(\"yes\")\n",
    "else:\n",
    "    print(\"No\")"
   ]
  },
  {
   "cell_type": "code",
   "execution_count": 20,
   "id": "ac71e1a4",
   "metadata": {},
   "outputs": [
    {
     "name": "stdout",
     "output_type": "stream",
     "text": [
      "True\n"
     ]
    }
   ],
   "source": [
    "#Python also has many built-in functions that return\n",
    "#a boolean value, like the isinstance() function, \n",
    "#which can be used to determine if an object is of \n",
    "#a certain data type:\n",
    "\n",
    "x=200\n",
    "print(isinstance(x,int))"
   ]
  },
  {
   "cell_type": "markdown",
   "id": "f4f5d07c",
   "metadata": {},
   "source": [
    "## List"
   ]
  },
  {
   "cell_type": "code",
   "execution_count": 21,
   "id": "609c870e",
   "metadata": {},
   "outputs": [
    {
     "name": "stdout",
     "output_type": "stream",
     "text": [
      "['apple', 'banana', 'cherry']\n",
      "3\n"
     ]
    }
   ],
   "source": [
    "this = [\"apple\", \"banana\", \"cherry\"]\n",
    "print(this[0:])\n",
    "print(len(this[0:]))\n"
   ]
  },
  {
   "cell_type": "code",
   "execution_count": 22,
   "id": "db15fa82",
   "metadata": {},
   "outputs": [
    {
     "name": "stdout",
     "output_type": "stream",
     "text": [
      "['apple', 'banana', 'cherry']\n",
      "<class 'list'>\n",
      "['apple', 'banana', 'cherry']\n",
      "<class 'list'>\n",
      "['apple', 'banana', 'cherry']\n",
      "<class 'list'>\n"
     ]
    }
   ],
   "source": [
    "list1 = [\"apple\", \"banana\", \"cherry\"]\n",
    "list2 = [1, 5, 7, 9, 3]\n",
    "list3 = [True, False, False]\n",
    "print(list1)\n",
    "print(type(list1))\n",
    "print(list1)\n",
    "print(type(list2))\n",
    "print(list1)\n",
    "print(type(list3))"
   ]
  },
  {
   "cell_type": "code",
   "execution_count": 23,
   "id": "b18c3ea5",
   "metadata": {},
   "outputs": [
    {
     "name": "stdout",
     "output_type": "stream",
     "text": [
      "['abc', 34, True, 40, 'male']\n"
     ]
    }
   ],
   "source": [
    "# A list string,integer and boolean value\n",
    "list1 = [\"abc\", 34, True, 40, \"male\"]\n",
    "print(list1)"
   ]
  },
  {
   "cell_type": "code",
   "execution_count": 24,
   "id": "95f6263e",
   "metadata": {},
   "outputs": [
    {
     "name": "stdout",
     "output_type": "stream",
     "text": [
      "['apple', 'banana', 'cherry']\n",
      "<class 'list'>\n"
     ]
    }
   ],
   "source": [
    "thislist = list((\"apple\", \"banana\", \"cherry\")) \n",
    "# note the double round-brackets\n",
    "print(thislist)\n",
    "print(type(thislist))"
   ]
  },
  {
   "cell_type": "markdown",
   "id": "0f131e33",
   "metadata": {},
   "source": [
    "# Python Collections (Arrays)\n",
    "There are four collection data types in the Python programming language:\n",
    "\n",
    "List is a collection which is ordered and changeable. Allows duplicate members.\n",
    "Tuple is a collection which is ordered and unchangeable. Allows duplicate members.\n",
    "Set is a collection which is unordered, unchangeable*, and unindexed. No duplicate members.\n",
    "Dictionary is a collection which is ordered** and changeable. No duplicate members."
   ]
  },
  {
   "cell_type": "code",
   "execution_count": 25,
   "id": "7932f505",
   "metadata": {},
   "outputs": [
    {
     "name": "stdout",
     "output_type": "stream",
     "text": [
      "['apple', 'blackcurrant', 'cherry']\n"
     ]
    }
   ],
   "source": [
    "th = [\"apple\", \"banana\", \"cherry\"]\n",
    "th[1] = \"blackcurrant\"\n",
    "print(th)"
   ]
  },
  {
   "cell_type": "code",
   "execution_count": 26,
   "id": "6f694470",
   "metadata": {},
   "outputs": [
    {
     "name": "stdout",
     "output_type": "stream",
     "text": [
      "['apple', 'blackcurrant', 'watermelon', 'orange', 'kiwi', 'mango']\n"
     ]
    }
   ],
   "source": [
    "th = [\"apple\", \"banana\", \"cherry\", \"orange\", \"kiwi\", \"mango\"]\n",
    "th[1:3] = [\"blackcurrant\", \"watermelon\"]\n",
    "print(th)"
   ]
  },
  {
   "cell_type": "code",
   "execution_count": 27,
   "id": "56b5d0ce",
   "metadata": {},
   "outputs": [
    {
     "name": "stdout",
     "output_type": "stream",
     "text": [
      "['apple', 'watermelon']\n"
     ]
    }
   ],
   "source": [
    "thislist = [\"apple\", \"banana\", \"cherry\"]\n",
    "thislist[1:3] = [\"watermelon\"]\n",
    "print(thislist)"
   ]
  },
  {
   "cell_type": "markdown",
   "id": "835f0606",
   "metadata": {},
   "source": [
    "# Insert Items\n",
    "To insert a new list item, without replacing any of the existing values, we can use the insert() method.\n",
    "\n",
    "The insert() method inserts an item at the specified index:"
   ]
  },
  {
   "cell_type": "code",
   "execution_count": 28,
   "id": "a29526a2",
   "metadata": {},
   "outputs": [
    {
     "name": "stdout",
     "output_type": "stream",
     "text": [
      "['apple', 'banaban', 'banana', 'cherry', 'chaum']\n"
     ]
    }
   ],
   "source": [
    "vm = [\"apple\", \"banana\", \"cherry\",\"chaum\"]\n",
    "vm.insert(1,\"banaban\")\n",
    "\n",
    "print(vm)"
   ]
  },
  {
   "cell_type": "markdown",
   "id": "91aaf1ec",
   "metadata": {},
   "source": [
    "# Python - Add List Items\n",
    "## Append Items\n",
    "To add an item to the end of the list, use the append() method:"
   ]
  },
  {
   "cell_type": "code",
   "execution_count": 29,
   "id": "cdb00e8f",
   "metadata": {},
   "outputs": [
    {
     "data": {
      "text/plain": [
       "['apple', 'Banana', 'Kela', 'Aam', 'orange', 'santra']"
      ]
     },
     "execution_count": 29,
     "metadata": {},
     "output_type": "execute_result"
    }
   ],
   "source": [
    "satish=[\"apple\",\"Banana\",\"Kela\",\"Aam\"]\n",
    "satish.append(\"orange\")\n",
    "satish.append(\"santra\")\n",
    "satish"
   ]
  },
  {
   "cell_type": "markdown",
   "id": "52c5ce16",
   "metadata": {},
   "source": [
    "# Insert Items\n",
    "To insert a list item at a specified index, use the insert() method.\n",
    "\n",
    "The insert() method inserts an item at the specified index:"
   ]
  },
  {
   "cell_type": "code",
   "execution_count": 30,
   "id": "6c334b1a",
   "metadata": {},
   "outputs": [
    {
     "data": {
      "text/plain": [
       "['dog', 'bear', 'lion', 'bandar', 'ele']"
      ]
     },
     "execution_count": 30,
     "metadata": {},
     "output_type": "execute_result"
    }
   ],
   "source": [
    "satish=[\"dog\",\"lion\",\"bandar\",\"ele\"]\n",
    "satish.insert(1,\"bear\")\n",
    "satish"
   ]
  },
  {
   "cell_type": "code",
   "execution_count": 31,
   "id": "b0996e70",
   "metadata": {},
   "outputs": [
    {
     "name": "stdout",
     "output_type": "stream",
     "text": [
      "['apple', 'Banana', 'Kela', 'Aam', 'dog', 'lion', 'bandar', 'ele']\n"
     ]
    }
   ],
   "source": [
    "satish=[\"apple\",\"Banana\",\"Kela\",\"Aam\"]\n",
    "satish1=[\"dog\",\"lion\",\"bandar\",\"ele\"]\n",
    "satish.extend(satish1)\n",
    "print(satish)"
   ]
  },
  {
   "cell_type": "markdown",
   "id": "fd9368d3",
   "metadata": {},
   "source": [
    "# Python - Remove List Items\n",
    " ## Remove Specified Item\n",
    "The remove() method removes the specified item."
   ]
  },
  {
   "cell_type": "code",
   "execution_count": 32,
   "id": "0cd54193",
   "metadata": {},
   "outputs": [
    {
     "data": {
      "text/plain": [
       "['Banana', 'Kela', 'Aam']"
      ]
     },
     "execution_count": 32,
     "metadata": {},
     "output_type": "execute_result"
    }
   ],
   "source": [
    "satish=[\"apple\",\"Banana\",\"Kela\",\"Aam\"]\n",
    "satish.remove(\"apple\")\n",
    "satish"
   ]
  },
  {
   "cell_type": "markdown",
   "id": "9305d7df",
   "metadata": {},
   "source": [
    "# Remove Specified Index\n",
    "The pop() method removes the specified index."
   ]
  },
  {
   "cell_type": "code",
   "execution_count": 33,
   "id": "d39479d9",
   "metadata": {},
   "outputs": [
    {
     "data": {
      "text/plain": [
       "['apple', 'Kela', 'Aam']"
      ]
     },
     "execution_count": 33,
     "metadata": {},
     "output_type": "execute_result"
    }
   ],
   "source": [
    "# If you do not specify the index, and\n",
    "# the pop() method removes the last item.\n",
    "\n",
    "satish=[\"apple\",\"Banana\",\"Kela\",\"Aam\"]\n",
    "satish.pop(1)           \n",
    "satish"
   ]
  },
  {
   "cell_type": "code",
   "execution_count": 34,
   "id": "d59f6d93",
   "metadata": {},
   "outputs": [
    {
     "data": {
      "text/plain": [
       "['apple', 'Kela']"
      ]
     },
     "execution_count": 34,
     "metadata": {},
     "output_type": "execute_result"
    }
   ],
   "source": [
    "satish.pop()\n",
    "satish"
   ]
  },
  {
   "cell_type": "code",
   "execution_count": 35,
   "id": "633bfcfe",
   "metadata": {},
   "outputs": [
    {
     "data": {
      "text/plain": [
       "['satuu', 'avi', 'sahah']"
      ]
     },
     "execution_count": 35,
     "metadata": {},
     "output_type": "execute_result"
    }
   ],
   "source": [
    "satish=[\"satuu\",\"avi\",\"mus\",\"sahah\"]\n",
    "del satish [2]\n",
    "satish"
   ]
  },
  {
   "cell_type": "code",
   "execution_count": 36,
   "id": "c8a81c21",
   "metadata": {},
   "outputs": [],
   "source": [
    "# The del keyword can also delete the list completely.\n",
    "satish=[\"satuu\",\"avi\",\"mus\",\"sahah\"]\n",
    "del satish\n"
   ]
  },
  {
   "cell_type": "markdown",
   "id": "a1fae4f3",
   "metadata": {},
   "source": [
    "# Clear the List\n",
    "The clear() method empties the list.\n",
    "\n",
    "The list still remains, but it has no content."
   ]
  },
  {
   "cell_type": "code",
   "execution_count": 37,
   "id": "2fc5e157",
   "metadata": {},
   "outputs": [],
   "source": [
    "fm=[\"aman\",\"sohan\",\"honal\",\"manak\",\",mahak\"]\n",
    "fm.clear()"
   ]
  },
  {
   "cell_type": "markdown",
   "id": "3c76e929",
   "metadata": {},
   "source": [
    "# Loop Through a List\n",
    "You can loop through the list items by using a for loop:"
   ]
  },
  {
   "cell_type": "code",
   "execution_count": 38,
   "id": "c88d4e87",
   "metadata": {},
   "outputs": [
    {
     "name": "stdout",
     "output_type": "stream",
     "text": [
      "apple\n",
      "Banana\n",
      "Kela\n",
      "Aam\n"
     ]
    }
   ],
   "source": [
    "satish=[\"apple\",\"Banana\",\"Kela\",\"Aam\"]\n",
    "for i in satish:\n",
    "    print(i)"
   ]
  },
  {
   "cell_type": "markdown",
   "id": "b9a9ca80",
   "metadata": {},
   "source": [
    "# Loop Through the Index Numbers\n",
    "You can also loop through the list items by referring to their index number.\n",
    "\n",
    "Use the range() and len() functions to create a suitable iterable."
   ]
  },
  {
   "cell_type": "code",
   "execution_count": 39,
   "id": "a4f2db74",
   "metadata": {},
   "outputs": [
    {
     "name": "stdout",
     "output_type": "stream",
     "text": [
      "['apple', 'sev', 'Banana', 'Kela', 'Aam', 'mausmi']\n",
      "['apple', 'sev', 'Banana', 'Kela', 'Aam', 'mausmi']\n",
      "['apple', 'sev', 'Banana', 'Kela', 'Aam', 'mausmi']\n",
      "['apple', 'sev', 'Banana', 'Kela', 'Aam', 'mausmi']\n",
      "['apple', 'sev', 'Banana', 'Kela', 'Aam', 'mausmi']\n",
      "['apple', 'sev', 'Banana', 'Kela', 'Aam', 'mausmi']\n"
     ]
    }
   ],
   "source": [
    "satish=[\"apple\",\"sev\",\"Banana\",\"Kela\",\"Aam\",\"mausmi\"]\n",
    "for i in range (len(satish)):\n",
    "    print(satish)"
   ]
  },
  {
   "cell_type": "code",
   "execution_count": 40,
   "id": "b5bfd246",
   "metadata": {},
   "outputs": [
    {
     "name": "stdout",
     "output_type": "stream",
     "text": [
      "apple\n",
      "sev\n",
      "Banana\n",
      "Kela\n",
      "Aam\n",
      "mausmi\n"
     ]
    }
   ],
   "source": [
    "satish=[\"apple\",\"sev\",\"Banana\",\"Kela\",\"Aam\",\"mausmi\"]\n",
    "for i in range (len(satish)):\n",
    "    print(satish[i])"
   ]
  },
  {
   "cell_type": "code",
   "execution_count": 41,
   "id": "09039c9e",
   "metadata": {},
   "outputs": [
    {
     "name": "stdout",
     "output_type": "stream",
     "text": [
      "apple\n",
      "sev\n",
      "Banana\n",
      "Kela\n",
      "Aam\n",
      "mausmi\n"
     ]
    }
   ],
   "source": [
    "satish=[\"apple\",\"sev\",\"Banana\",\"Kela\",\"Aam\",\"mausmi\"]\n",
    "i = 0\n",
    "while i < len(satish):\n",
    "  print(satish[i])\n",
    "  i = i + 1"
   ]
  },
  {
   "cell_type": "markdown",
   "id": "a7c08888",
   "metadata": {},
   "source": [
    "# Looping Using List Comprehension\n",
    "List Comprehension offers the shortest syntax for looping through lists:"
   ]
  },
  {
   "cell_type": "code",
   "execution_count": 42,
   "id": "228bb910",
   "metadata": {},
   "outputs": [
    {
     "name": "stdout",
     "output_type": "stream",
     "text": [
      "one\n",
      "man\n",
      "army\n",
      "hota\n",
      "hai!\n"
     ]
    },
    {
     "data": {
      "text/plain": [
       "[None, None, None, None, None]"
      ]
     },
     "execution_count": 42,
     "metadata": {},
     "output_type": "execute_result"
    }
   ],
   "source": [
    "sat=[\"one\",\"man\",\"army\",\"hota\",\"hai!\"]\n",
    "[print(x) for x in sat]"
   ]
  },
  {
   "cell_type": "code",
   "execution_count": 43,
   "id": "15ff4de6",
   "metadata": {},
   "outputs": [
    {
     "name": "stdout",
     "output_type": "stream",
     "text": [
      "['man', 'army', 'hota', 'hai!']\n"
     ]
    }
   ],
   "source": [
    "sat=[\"one\",\"man\",\"army\",\"hota\",\"hai!\"]\n",
    "newlist = []\n",
    "\n",
    "for x in sat:\n",
    "  if \"a\" in x:\n",
    "    newlist.append(x)\n",
    "\n",
    "print(newlist)"
   ]
  },
  {
   "cell_type": "code",
   "execution_count": 44,
   "id": "ac75500f",
   "metadata": {},
   "outputs": [
    {
     "name": "stdout",
     "output_type": "stream",
     "text": [
      "['one', 'man', 'army', 'hota', 'hai!']\n"
     ]
    }
   ],
   "source": [
    "print(sat)"
   ]
  },
  {
   "cell_type": "code",
   "execution_count": 45,
   "id": "a5a5f11d",
   "metadata": {},
   "outputs": [
    {
     "name": "stdout",
     "output_type": "stream",
     "text": [
      "['man', 'army', 'hota', 'hai!']\n"
     ]
    }
   ],
   "source": [
    "print(newlist)"
   ]
  },
  {
   "cell_type": "code",
   "execution_count": 46,
   "id": "5b0c99a5",
   "metadata": {},
   "outputs": [
    {
     "name": "stdout",
     "output_type": "stream",
     "text": [
      "['aa', 'jara', 'kitna', 'hai']\n"
     ]
    }
   ],
   "source": [
    "satis=[\"aa\",\"dekhe\",\"jara\",\"kisme\",\"kitna\",\"hai\",\"dumm!\"]\n",
    "new=[]\n",
    "for x in satis:\n",
    "    if \"a\" in x:\n",
    "        new.append(x)\n",
    "print(new)"
   ]
  },
  {
   "cell_type": "code",
   "execution_count": 47,
   "id": "bbae836e",
   "metadata": {},
   "outputs": [
    {
     "name": "stdout",
     "output_type": "stream",
     "text": [
      "['aa', 'dekhe', 'jara', 'kisme', 'kitna', 'hai', 'dumm!']\n"
     ]
    }
   ],
   "source": [
    "print(satis)"
   ]
  },
  {
   "cell_type": "markdown",
   "id": "3eb5f197",
   "metadata": {},
   "source": [
    "# 1.With list comprehension you can do all that with only one line of code:"
   ]
  },
  {
   "cell_type": "code",
   "execution_count": 48,
   "id": "550012cf",
   "metadata": {},
   "outputs": [
    {
     "name": "stdout",
     "output_type": "stream",
     "text": [
      "['man', 'adult']\n"
     ]
    }
   ],
   "source": [
    "satish=[\"man\",\"women\",\"child\",\"old\",\"adult\"]\n",
    "new=[ x for x in satish if \"a\" in x]\n",
    "print(new)"
   ]
  },
  {
   "cell_type": "code",
   "execution_count": 49,
   "id": "f885c1eb",
   "metadata": {},
   "outputs": [
    {
     "data": {
      "text/plain": [
       "['aa', 'dekhe', 'jara', 'kisme', 'kitna', 'dumm!']"
      ]
     },
     "execution_count": 49,
     "metadata": {},
     "output_type": "execute_result"
    }
   ],
   "source": [
    "newlist = [x for x in satis if x != \"hai\"]\n",
    "newlist"
   ]
  },
  {
   "cell_type": "code",
   "execution_count": 50,
   "id": "e2555a88",
   "metadata": {},
   "outputs": [
    {
     "data": {
      "text/plain": [
       "['man', 'women', 'child', 'old', 'adult']"
      ]
     },
     "execution_count": 50,
     "metadata": {},
     "output_type": "execute_result"
    }
   ],
   "source": [
    "new=[x for x in satish]\n",
    "new"
   ]
  },
  {
   "cell_type": "code",
   "execution_count": 51,
   "id": "a47befeb",
   "metadata": {},
   "outputs": [
    {
     "data": {
      "text/plain": [
       "[0, 1, 2, 3, 4, 5, 6, 7, 8, 9]"
      ]
     },
     "execution_count": 51,
     "metadata": {},
     "output_type": "execute_result"
    }
   ],
   "source": [
    "new=[x for x in range(10)]\n",
    "new"
   ]
  },
  {
   "cell_type": "code",
   "execution_count": 52,
   "id": "be371644",
   "metadata": {},
   "outputs": [
    {
     "data": {
      "text/plain": [
       "[6, 7, 8, 9, 10, 11, 12, 13, 14, 15, 16, 17, 18, 19]"
      ]
     },
     "execution_count": 52,
     "metadata": {},
     "output_type": "execute_result"
    }
   ],
   "source": [
    "satish=[x for x in  range(20) if x>5]\n",
    "satish"
   ]
  },
  {
   "cell_type": "code",
   "execution_count": 53,
   "id": "6febe97f",
   "metadata": {},
   "outputs": [
    {
     "data": {
      "text/plain": [
       "[0, 2, 4, 6, 8, 10, 12, 14, 16, 18, 20]"
      ]
     },
     "execution_count": 53,
     "metadata": {},
     "output_type": "execute_result"
    }
   ],
   "source": [
    "satis = [x*2 for x in range(11)]\n",
    "satis\n"
   ]
  },
  {
   "cell_type": "code",
   "execution_count": 54,
   "id": "452eab0f",
   "metadata": {},
   "outputs": [
    {
     "name": "stdout",
     "output_type": "stream",
     "text": [
      "Original Value  |  Doubled Value\n",
      "----------------+---------------\n",
      "0               |  0         \n",
      "1               |  2         \n",
      "2               |  4         \n",
      "3               |  6         \n",
      "4               |  8         \n",
      "5               |  10        \n",
      "6               |  12        \n",
      "7               |  14        \n",
      "8               |  16        \n",
      "9               |  18        \n",
      "10              |  20        \n"
     ]
    }
   ],
   "source": [
    "# Print the table header\n",
    "print(\"Original Value  |  Doubled Value\")\n",
    "print(\"----------------+---------------\")\n",
    "# Print the table rows\n",
    "for x in range(11):\n",
    "    print(f\"{x:<15} |  {satis[x]:<10}\")"
   ]
  },
  {
   "cell_type": "code",
   "execution_count": 55,
   "id": "361fc33b",
   "metadata": {},
   "outputs": [],
   "source": [
    "sat=[x*3 for x in range(11)]"
   ]
  },
  {
   "cell_type": "code",
   "execution_count": 56,
   "id": "ad8b21e4",
   "metadata": {},
   "outputs": [
    {
     "name": "stdout",
     "output_type": "stream",
     "text": [
      "Original Value  |  Doubled Value\n",
      "----------------+---------------\n",
      "0               |  0         \n",
      "1               |  3         \n",
      "2               |  6         \n",
      "3               |  9         \n",
      "4               |  12        \n",
      "5               |  15        \n",
      "6               |  18        \n",
      "7               |  21        \n",
      "8               |  24        \n",
      "9               |  27        \n",
      "10              |  30        \n"
     ]
    }
   ],
   "source": [
    "# Print the table header\n",
    "print(\"Original Value  |  Doubled Value\")\n",
    "print(\"----------------+---------------\")\n",
    "# Print the table rows\n",
    "for x in range(11):\n",
    "    print(f\"{x:<15} |  {sat[x]:<10}\")\n"
   ]
  },
  {
   "cell_type": "code",
   "execution_count": 57,
   "id": "679480ca",
   "metadata": {},
   "outputs": [
    {
     "name": "stdout",
     "output_type": "stream",
     "text": [
      "0,4,8,12,16,20,24,28,32,36,40,"
     ]
    }
   ],
   "source": [
    "mul=[x*4 for x in range(11)]\n",
    "for i in mul:\n",
    "    print(i ,end=\",\")\n"
   ]
  },
  {
   "cell_type": "code",
   "execution_count": 58,
   "id": "19666c5d",
   "metadata": {},
   "outputs": [
    {
     "name": "stdout",
     "output_type": "stream",
     "text": [
      "0\n",
      "5\n",
      "10\n",
      "15\n",
      "20\n",
      "25\n",
      "30\n",
      "35\n",
      "40\n",
      "45\n",
      "50\n"
     ]
    }
   ],
   "source": [
    "mul=[x*5 for x in range(11)]\n",
    "for i in mul:\n",
    "    print(i)\n"
   ]
  },
  {
   "cell_type": "code",
   "execution_count": 59,
   "id": "b98c33f0",
   "metadata": {},
   "outputs": [
    {
     "data": {
      "text/plain": [
       "['hello', 'hello', 'hello', 'hello', 'hello', 'hello']"
      ]
     },
     "execution_count": 59,
     "metadata": {},
     "output_type": "execute_result"
    }
   ],
   "source": [
    "au=[\"apple\", \"banana\", \"cherry\", \"kiwi\", \"mango\",\"orange\"]\n",
    "new=[\"hello\" for x in au]\n",
    "new"
   ]
  },
  {
   "cell_type": "code",
   "execution_count": 60,
   "id": "c2b4bdc3",
   "metadata": {},
   "outputs": [
    {
     "data": {
      "text/plain": [
       "['apple', 'orange', 'cherry', 'kiwi', 'mango', 'orange']"
      ]
     },
     "execution_count": 60,
     "metadata": {},
     "output_type": "execute_result"
    }
   ],
   "source": [
    "newlist = [x if x != \"banana\" else \"orange\" for x in au]\n",
    "newlist"
   ]
  },
  {
   "cell_type": "code",
   "execution_count": 61,
   "id": "f8cfde6e",
   "metadata": {},
   "outputs": [
    {
     "name": "stdout",
     "output_type": "stream",
     "text": [
      "['apple', 'banana', 'cherry', 'kiwi', 'mango', 'orange']\n"
     ]
    }
   ],
   "source": [
    "li=[\"apple\", \"banana\", \"cherry\", \"kiwi\", \"mango\",\"orange\"]\n",
    "li.sort()\n",
    "print(li)"
   ]
  },
  {
   "cell_type": "code",
   "execution_count": 62,
   "id": "3aff301d",
   "metadata": {},
   "outputs": [
    {
     "data": {
      "text/plain": [
       "[10, 15, 20, 65, 99, 199, 234]"
      ]
     },
     "execution_count": 62,
     "metadata": {},
     "output_type": "execute_result"
    }
   ],
   "source": [
    "num=[199,20,234,10,99,65,15]\n",
    "num.sort()\n",
    "num"
   ]
  },
  {
   "cell_type": "code",
   "execution_count": 63,
   "id": "60571039",
   "metadata": {},
   "outputs": [
    {
     "data": {
      "text/plain": [
       "['orange', 'mango', 'kiwi', 'cherry', 'banana', 'apple']"
      ]
     },
     "execution_count": 63,
     "metadata": {},
     "output_type": "execute_result"
    }
   ],
   "source": [
    "ul=[\"apple\", \"banana\", \"cherry\", \"kiwi\", \"mango\",\"orange\"]\n",
    "ul.sort(reverse=True)\n",
    "ul"
   ]
  },
  {
   "cell_type": "code",
   "execution_count": 64,
   "id": "52297c2a",
   "metadata": {},
   "outputs": [
    {
     "data": {
      "text/plain": [
       "[30, 22, 13, 12, 3, 2, 1]"
      ]
     },
     "execution_count": 64,
     "metadata": {},
     "output_type": "execute_result"
    }
   ],
   "source": [
    "num=[1,30,13,22,12,2,3]\n",
    "num.sort(reverse=True)\n",
    "num"
   ]
  },
  {
   "cell_type": "code",
   "execution_count": 65,
   "id": "9fcc96dd",
   "metadata": {},
   "outputs": [
    {
     "name": "stdout",
     "output_type": "stream",
     "text": [
      "[50, 65, 23, 82, 100]\n"
     ]
    }
   ],
   "source": [
    "def myfunc(n):\n",
    "  return abs(n - 50)\n",
    "\n",
    "thislist = [100, 50, 65, 82, 23]\n",
    "thislist.sort(key = myfunc)\n",
    "print(thislist)"
   ]
  },
  {
   "cell_type": "markdown",
   "id": "2bacf773",
   "metadata": {},
   "source": [
    "# Join Two Lists\n",
    "There are several ways to join, or concatenate, two or more lists in Python.\n",
    "\n",
    "One of the easiest ways are by using the + operator."
   ]
  },
  {
   "cell_type": "code",
   "execution_count": 66,
   "id": "dceed8e3",
   "metadata": {},
   "outputs": [
    {
     "name": "stdout",
     "output_type": "stream",
     "text": [
      "['a', 'b', 'c', 'd', 1, 2, 3, 4]\n"
     ]
    }
   ],
   "source": [
    "# 1st way for Join two list\n",
    "list1 = [\"a\", \"b\", \"c\",\"d\"]\n",
    "list2 = [1, 2, 3, 4]\n",
    "\n",
    "list3 = list1 + list2\n",
    "print(list3)"
   ]
  },
  {
   "cell_type": "code",
   "execution_count": 67,
   "id": "5ba18f95",
   "metadata": {},
   "outputs": [
    {
     "name": "stdout",
     "output_type": "stream",
     "text": [
      "['a', 'b', 'c', 'd', 1, 2, 3, 4]\n"
     ]
    }
   ],
   "source": [
    "# 2nd Way to join two list\n",
    "for x in list2:\n",
    "    list1.append(x)\n",
    "print(list1)    "
   ]
  },
  {
   "cell_type": "code",
   "execution_count": 68,
   "id": "bb4b049c",
   "metadata": {},
   "outputs": [
    {
     "name": "stdout",
     "output_type": "stream",
     "text": [
      "['a', 'b', 'c', 'd', 1, 2, 3, 4, 1, 2, 3, 4]\n"
     ]
    }
   ],
   "source": [
    "# 3rd way for join two list\n",
    "list1.extend(list2)\n",
    "print(list1)"
   ]
  },
  {
   "cell_type": "markdown",
   "id": "f30800e5",
   "metadata": {},
   "source": [
    "# List Methods\n",
    "Python has a set of built-in methods that you can use on lists.\n",
    "\n",
    "Method\tDescription\n",
    "append()-----Adds an element at the end of the list\n",
    "\n",
    "clear()------Removes all the elements from the list\n",
    "\n",
    "copy()-------Returns a copy of the list\n",
    "\n",
    "count()------Returns the number of elements with the specified value\n",
    "\n",
    "extend()-----Add the elements of a list (or any iterable), to the end of the current list\n",
    "\n",
    "index()-----Returns the index of the first element with the specified value\n",
    "\n",
    "insert()-----Adds an element at the specified position\n",
    "\n",
    "pop()--------Removes the element at the specified position\n",
    "\n",
    "remove()----Removes the item with the specified value\n",
    "\n",
    "reverse()----Reverses the order of the list\n",
    "\n",
    "sort()--------Sorts the list"
   ]
  },
  {
   "cell_type": "raw",
   "id": "d8937dbd",
   "metadata": {},
   "source": [
    "import time, sys\n",
    "indent = 0 # How many spaces to indent.\n",
    "indentIncreasing = True # Whether the indentation is increasing or not.\n",
    "\n",
    "try:\n",
    "    while True: # The main program loop.\n",
    "        print(' ' * indent, end='')\n",
    "        print('********')\n",
    "        time.sleep(0.1) # Pause for 1/10 of a second.\n",
    "\n",
    "        if indentIncreasing:\n",
    "            # Increase the number of spaces:\n",
    "            indent = indent + 1\n",
    "            if indent == 20:\n",
    "                # Change direction:\n",
    "                indentIncreasing = False\n",
    "\n",
    "        else:\n",
    "            # Decrease the number of spaces:\n",
    "            indent = indent - 1\n",
    "            if indent == 0:\n",
    "                # Change direction:\n",
    "                indentIncreasing = True\n",
    "except KeyboardInterrupt:\n",
    "    sys.exit()"
   ]
  },
  {
   "cell_type": "code",
   "execution_count": 73,
   "id": "04416dcd",
   "metadata": {},
   "outputs": [
    {
     "name": "stdout",
     "output_type": "stream",
     "text": [
      "apple\n",
      "Banana\n",
      "Cherry\n",
      "Mango\n",
      "papaya\n",
      "Apple\n",
      "Banana\n"
     ]
    }
   ],
   "source": [
    "tuple1=(\"apple\",\"Banana\",\"Cherry\",\"Mango\",\"papaya\",\"Apple\",\"Banana\")\n",
    "for i in range (len(tuple1)):\n",
    "    print(tuple1[i])\n",
    "  "
   ]
  },
  {
   "cell_type": "code",
   "execution_count": 74,
   "id": "647abae8",
   "metadata": {},
   "outputs": [
    {
     "name": "stdout",
     "output_type": "stream",
     "text": [
      "apple\n",
      "Banana\n",
      "Cherry\n",
      "Mango\n"
     ]
    }
   ],
   "source": [
    "tuple2=(\"apple\",\"Banana\",\"Cherry\",\"Mango\")\n",
    "i=0\n",
    "while i <len(tuple2):\n",
    "    print(tuple2[i])\n",
    "    i=i+1"
   ]
  },
  {
   "cell_type": "markdown",
   "id": "2fa64a97",
   "metadata": {},
   "source": [
    "# Join Two Tuples\n",
    "To join two or more tuples you can use the + ope"
   ]
  },
  {
   "cell_type": "code",
   "execution_count": 89,
   "id": "8c2b87ed",
   "metadata": {},
   "outputs": [
    {
     "name": "stdout",
     "output_type": "stream",
     "text": [
      "('apple', 'Banana', 'Cherry', 'Mango', 'papaya', 'Apple', 'Banana', 'apple', 'Banana', 'Cherry', 'Mango')\n",
      "11\n",
      "**************Below is multiplication******************\n",
      "('apple', 'Banana', 'Cherry', 'Mango', 'papaya', 'Apple', 'Banana', 'apple', 'Banana', 'Cherry', 'Mango')\n"
     ]
    }
   ],
   "source": [
    "result=tuple1+tuple2\n",
    "print(result)\n",
    "print(len(result))\n",
    "print(\"**************Below is multiplication******************\")\n",
    "mul_tup=result*1\n",
    "print(mul_tup)"
   ]
  },
  {
   "cell_type": "markdown",
   "id": "e70a87ac",
   "metadata": {},
   "source": [
    "# Tuple Methods\n",
    "Python has two built-in methods that you can use on tuples.\n",
    "\n",
    "Method\tDescription\n",
    "count()\tReturns the number of times a specified value occurs in a tuple\n",
    "index()\tSearches the tuple for a specified value and returns the position of where it was found"
   ]
  },
  {
   "cell_type": "markdown",
   "id": "fe2584b0",
   "metadata": {},
   "source": [
    "# Tuple\n",
    "Tuples are used to store multiple items in a single variable. Tuple items are ordered, unchangeable, and allow duplicate values. A tuple is a collection which is ordered and unchangeable.\n",
    "\n",
    "Tuples are written with round brackets."
   ]
  },
  {
   "cell_type": "code",
   "execution_count": 95,
   "id": "41228a55",
   "metadata": {},
   "outputs": [
    {
     "name": "stdout",
     "output_type": "stream",
     "text": [
      "('saat', 'aath', 'nau', 'duss', 'bus')\n",
      "5\n"
     ]
    }
   ],
   "source": [
    "satish=(\"saat\",\"aath\",\"nau\",\"duss\",\"bus\")\n",
    "print(satish)\n",
    "print(len(satish))"
   ]
  },
  {
   "cell_type": "code",
   "execution_count": 96,
   "id": "3c2039be",
   "metadata": {},
   "outputs": [
    {
     "name": "stdout",
     "output_type": "stream",
     "text": [
      "<class 'tuple'>\n",
      "<class 'str'>\n"
     ]
    }
   ],
   "source": [
    "sat = (\"apple\",)\n",
    "print(type(sat))\n",
    "\n",
    "#NOT a tuple\n",
    "vk = (\"apple\")\n",
    "print(type(vk))"
   ]
  },
  {
   "cell_type": "code",
   "execution_count": 97,
   "id": "15688c78",
   "metadata": {},
   "outputs": [
    {
     "name": "stdout",
     "output_type": "stream",
     "text": [
      "<class 'tuple'>\n",
      "<class 'tuple'>\n",
      "<class 'tuple'>\n"
     ]
    }
   ],
   "source": [
    "tup1 = (\"apple\", \"banana\", \"cherry\")\n",
    "tup2 = (1, 5, 7, 9, 3,\"mmm\")\n",
    "tup3 = (True, False, False)\n",
    "print(type(tup1))\n",
    "print(type(tup2))\n",
    "print(type(tup3))"
   ]
  },
  {
   "cell_type": "code",
   "execution_count": 98,
   "id": "5ca922bd",
   "metadata": {},
   "outputs": [
    {
     "name": "stdout",
     "output_type": "stream",
     "text": [
      "('apple', 'banana', 'cherry')\n"
     ]
    }
   ],
   "source": [
    "thistuple = tuple((\"apple\", \"banana\", \"cherry\")) # note the double round-brackets\n",
    "print(thistuple)"
   ]
  },
  {
   "cell_type": "markdown",
   "id": "b0692cbd",
   "metadata": {},
   "source": [
    "# Python Collections (Arrays)\n",
    "There are four collection data types in the Python programming language:\n",
    "\n",
    "List is a collection which is ordered and changeable. Allows duplicate members.\n",
    "Tuple is a collection which is ordered and unchangeable. Allows duplicate members.\n",
    "Set is a collection which is unordered, unchangeable*, and unindexed. No duplicate members.\n",
    "Dictionary is a collection which is ordered** and changeable. No duplicate members."
   ]
  },
  {
   "cell_type": "code",
   "execution_count": null,
   "id": "fe738a9b",
   "metadata": {},
   "outputs": [],
   "source": []
  },
  {
   "cell_type": "code",
   "execution_count": null,
   "id": "509697eb",
   "metadata": {},
   "outputs": [],
   "source": []
  },
  {
   "cell_type": "code",
   "execution_count": null,
   "id": "a9291793",
   "metadata": {},
   "outputs": [],
   "source": []
  },
  {
   "cell_type": "code",
   "execution_count": null,
   "id": "1807d52b",
   "metadata": {},
   "outputs": [],
   "source": []
  },
  {
   "cell_type": "code",
   "execution_count": null,
   "id": "800b2c37",
   "metadata": {},
   "outputs": [],
   "source": []
  },
  {
   "cell_type": "code",
   "execution_count": null,
   "id": "8023224c",
   "metadata": {},
   "outputs": [],
   "source": []
  },
  {
   "cell_type": "code",
   "execution_count": null,
   "id": "3fd96535",
   "metadata": {},
   "outputs": [],
   "source": []
  },
  {
   "cell_type": "code",
   "execution_count": null,
   "id": "f055eec6",
   "metadata": {},
   "outputs": [],
   "source": []
  },
  {
   "cell_type": "code",
   "execution_count": null,
   "id": "9c153eb9",
   "metadata": {},
   "outputs": [],
   "source": []
  },
  {
   "cell_type": "code",
   "execution_count": null,
   "id": "dd414f9c",
   "metadata": {},
   "outputs": [],
   "source": []
  },
  {
   "cell_type": "code",
   "execution_count": null,
   "id": "d047b553",
   "metadata": {},
   "outputs": [],
   "source": []
  },
  {
   "cell_type": "code",
   "execution_count": null,
   "id": "53ea9a8a",
   "metadata": {},
   "outputs": [],
   "source": []
  },
  {
   "cell_type": "code",
   "execution_count": null,
   "id": "4381ff37",
   "metadata": {},
   "outputs": [],
   "source": []
  },
  {
   "cell_type": "code",
   "execution_count": null,
   "id": "adc6cdc2",
   "metadata": {},
   "outputs": [],
   "source": []
  },
  {
   "cell_type": "code",
   "execution_count": null,
   "id": "97adec2b",
   "metadata": {},
   "outputs": [],
   "source": []
  },
  {
   "cell_type": "code",
   "execution_count": null,
   "id": "97e518fe",
   "metadata": {},
   "outputs": [],
   "source": []
  },
  {
   "cell_type": "code",
   "execution_count": null,
   "id": "3fefad25",
   "metadata": {},
   "outputs": [],
   "source": []
  },
  {
   "cell_type": "code",
   "execution_count": null,
   "id": "cf587269",
   "metadata": {},
   "outputs": [],
   "source": []
  },
  {
   "cell_type": "code",
   "execution_count": null,
   "id": "40d427d0",
   "metadata": {},
   "outputs": [],
   "source": []
  },
  {
   "cell_type": "code",
   "execution_count": null,
   "id": "4d7cbfd0",
   "metadata": {},
   "outputs": [],
   "source": []
  },
  {
   "cell_type": "code",
   "execution_count": null,
   "id": "be3c2641",
   "metadata": {},
   "outputs": [],
   "source": []
  },
  {
   "cell_type": "code",
   "execution_count": null,
   "id": "8874c460",
   "metadata": {},
   "outputs": [],
   "source": []
  },
  {
   "cell_type": "code",
   "execution_count": null,
   "id": "57b1a323",
   "metadata": {},
   "outputs": [],
   "source": []
  },
  {
   "cell_type": "code",
   "execution_count": null,
   "id": "60c3ad0b",
   "metadata": {},
   "outputs": [],
   "source": []
  },
  {
   "cell_type": "code",
   "execution_count": null,
   "id": "93f9031b",
   "metadata": {},
   "outputs": [],
   "source": []
  },
  {
   "cell_type": "code",
   "execution_count": null,
   "id": "15c94b39",
   "metadata": {},
   "outputs": [],
   "source": []
  },
  {
   "cell_type": "code",
   "execution_count": null,
   "id": "6b01fe3a",
   "metadata": {},
   "outputs": [],
   "source": []
  },
  {
   "cell_type": "code",
   "execution_count": null,
   "id": "3fee47d1",
   "metadata": {},
   "outputs": [],
   "source": []
  },
  {
   "cell_type": "code",
   "execution_count": null,
   "id": "339717c7",
   "metadata": {},
   "outputs": [],
   "source": []
  },
  {
   "cell_type": "code",
   "execution_count": null,
   "id": "0b671138",
   "metadata": {},
   "outputs": [],
   "source": []
  },
  {
   "cell_type": "code",
   "execution_count": null,
   "id": "2eb331c8",
   "metadata": {},
   "outputs": [],
   "source": []
  },
  {
   "cell_type": "code",
   "execution_count": null,
   "id": "8f6c631f",
   "metadata": {},
   "outputs": [],
   "source": []
  },
  {
   "cell_type": "code",
   "execution_count": null,
   "id": "29a15dd1",
   "metadata": {},
   "outputs": [],
   "source": []
  },
  {
   "cell_type": "code",
   "execution_count": null,
   "id": "83a0832d",
   "metadata": {},
   "outputs": [],
   "source": []
  },
  {
   "cell_type": "code",
   "execution_count": null,
   "id": "eb4610e7",
   "metadata": {},
   "outputs": [],
   "source": []
  },
  {
   "cell_type": "code",
   "execution_count": null,
   "id": "0835677e",
   "metadata": {},
   "outputs": [],
   "source": []
  },
  {
   "cell_type": "code",
   "execution_count": null,
   "id": "51145673",
   "metadata": {},
   "outputs": [],
   "source": []
  },
  {
   "cell_type": "code",
   "execution_count": null,
   "id": "0068d2c9",
   "metadata": {},
   "outputs": [],
   "source": []
  },
  {
   "cell_type": "code",
   "execution_count": null,
   "id": "a3ef08e5",
   "metadata": {},
   "outputs": [],
   "source": []
  },
  {
   "cell_type": "code",
   "execution_count": null,
   "id": "e4461cd9",
   "metadata": {},
   "outputs": [],
   "source": []
  },
  {
   "cell_type": "code",
   "execution_count": null,
   "id": "2263f372",
   "metadata": {},
   "outputs": [],
   "source": []
  },
  {
   "cell_type": "code",
   "execution_count": null,
   "id": "ba32937e",
   "metadata": {},
   "outputs": [],
   "source": []
  },
  {
   "cell_type": "code",
   "execution_count": null,
   "id": "be2e3986",
   "metadata": {},
   "outputs": [],
   "source": []
  },
  {
   "cell_type": "code",
   "execution_count": null,
   "id": "f9a658af",
   "metadata": {},
   "outputs": [],
   "source": []
  }
 ],
 "metadata": {
  "kernelspec": {
   "display_name": "Python 3 (ipykernel)",
   "language": "python",
   "name": "python3"
  },
  "language_info": {
   "codemirror_mode": {
    "name": "ipython",
    "version": 3
   },
   "file_extension": ".py",
   "mimetype": "text/x-python",
   "name": "python",
   "nbconvert_exporter": "python",
   "pygments_lexer": "ipython3",
   "version": "3.9.13"
  }
 },
 "nbformat": 4,
 "nbformat_minor": 5
}
