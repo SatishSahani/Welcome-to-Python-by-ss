{
 "cells": [
  {
   "cell_type": "markdown",
   "id": "a23cffca",
   "metadata": {},
   "source": [
    "# Python Collections (Arrays)\n",
    "There are four collection data types in the Python programming language:\n",
    "\n",
    "### 1.List is a collection which is ordered and changeable. Allows duplicate members.\n",
    "\n",
    "### 2.Tuple is a collection which is ordered and unchangeable. Allows duplicate members.\n",
    "\n",
    "### 3.Set is a collection which is unordered, unchangeable*, and unindexed. No duplicate members.\n",
    "\n",
    "### 4.Dictionary is a collection which is ordered** and changeable. No duplicate members."
   ]
  },
  {
   "cell_type": "markdown",
   "id": "cf6b2af9",
   "metadata": {},
   "source": [
    "# Set \n",
    "Set items are unordered, unchangeable, and do not allow duplicate values.\n",
    "\n",
    "Set is one of 4 built-in data types in Python used to store collections of data, the other 3 are List, Tuple, and Dictionary, all with different qualities and usage.\n",
    "\n",
    "Sets are written with curly brackets {}.\n",
    "* Note: Set items are unchangeable, but you can remove items and add new items.\n",
    "\n",
    "Note: Sets are unordered, so you cannot be sure in which order the items will appear.\n"
   ]
  },
  {
   "cell_type": "code",
   "execution_count": 11,
   "id": "1c537a7f",
   "metadata": {},
   "outputs": [
    {
     "name": "stdout",
     "output_type": "stream",
     "text": [
      "{1, 'Mango', 4, 'Banana', 'Papaya', 23}\n"
     ]
    }
   ],
   "source": [
    "satish={\"Mango\", \"Banana\",\"Papaya\",1,23,4}\n",
    "print(satish)\n"
   ]
  },
  {
   "cell_type": "markdown",
   "id": "844e4d3e",
   "metadata": {},
   "source": [
    "# Set Items\n",
    "Set items are unordered, unchangeable, and do not allow duplicate values.\n",
    "\n",
    "# Unordered\n",
    "Unordered means that the items in a set do not have a defined order.\n",
    "\n",
    "Set items can appear in a different order every time you use them, and cannot be referred to by index or key.\n",
    "\n",
    "# Unchangeable\n",
    "Set items are unchangeable, meaning that we cannot change the items after the set has been created.\n",
    "\n",
    "Once a set is created, you cannot change its items, but you can remove items and add new items.\n",
    "\n",
    "# Duplicates Not Allowed\n",
    "Sets cannot have two items with the same value."
   ]
  },
  {
   "cell_type": "code",
   "execution_count": 13,
   "id": "0d630662",
   "metadata": {},
   "outputs": [
    {
     "data": {
      "text/plain": [
       "{'abhay', 'mohan', 'satish', 'sohan'}"
      ]
     },
     "execution_count": 13,
     "metadata": {},
     "output_type": "execute_result"
    }
   ],
   "source": [
    "sattu={\"satish\",\"mohan\",\"sohan\",\"satish\",\"mohan\",\"abhay\"}\n",
    "sattu"
   ]
  },
  {
   "cell_type": "code",
   "execution_count": 15,
   "id": "f1cf8e72",
   "metadata": {},
   "outputs": [
    {
     "data": {
      "text/plain": [
       "{3, 5, True, 'apple', 'banana'}"
      ]
     },
     "execution_count": 15,
     "metadata": {},
     "output_type": "execute_result"
    }
   ],
   "source": [
    "set1={\"apple\",\"banana\",\"apple\",True,1,3,5}\n",
    "set1"
   ]
  },
  {
   "cell_type": "markdown",
   "id": "7aabdbe5",
   "metadata": {},
   "source": [
    "# The set() Constructor\n",
    "It is also possible to use the set() constructor to make a set."
   ]
  },
  {
   "cell_type": "code",
   "execution_count": 18,
   "id": "9145da41",
   "metadata": {},
   "outputs": [
    {
     "name": "stdout",
     "output_type": "stream",
     "text": [
      "{'apple', 'banana', 'cherry'}\n"
     ]
    }
   ],
   "source": [
    "#Using the set() constructor to make a set:\n",
    "\n",
    "thisset = set((\"apple\", \"banana\", \"cherry\")) # note the double round-brackets\n",
    "print(thisset)"
   ]
  },
  {
   "cell_type": "markdown",
   "id": "9194a40a",
   "metadata": {},
   "source": [
    "# Python - Access Set Items\n",
    "Access Items\n",
    "You cannot access items in a set by referring to an index or a key.\n",
    "\n",
    "But you can loop through the set items using a for loop, or ask if a specified value is present in a set, by using the in keyword."
   ]
  },
  {
   "cell_type": "code",
   "execution_count": 25,
   "id": "67b47ffb",
   "metadata": {},
   "outputs": [
    {
     "name": "stdout",
     "output_type": "stream",
     "text": [
      "1\n",
      "Mango\n",
      "4\n",
      "Banana\n",
      "Papaya\n",
      "23\n",
      "True\n"
     ]
    }
   ],
   "source": [
    "satish={\"Mango\", \"Banana\",\"Papaya\",1,23,4}\n",
    "for x in satish:\n",
    "    print(x)\n",
    "print(\"Banana\" in satish)    "
   ]
  },
  {
   "cell_type": "markdown",
   "id": "b28ebe5d",
   "metadata": {},
   "source": [
    "# Change Items\n",
    "Once a set is created, you cannot change its items, but you can add new items."
   ]
  },
  {
   "cell_type": "code",
   "execution_count": 26,
   "id": "458f494e",
   "metadata": {},
   "outputs": [
    {
     "name": "stdout",
     "output_type": "stream",
     "text": [
      "{'mony', 'abhay', 'parrot', 'sony', 'satish'}\n"
     ]
    }
   ],
   "source": [
    "satish={\"satish\",\"mony\",\"sony\",\"abhay\"}\n",
    "satish.add(\"parrot\")\n",
    "print(satish)"
   ]
  },
  {
   "cell_type": "markdown",
   "id": "0fb8ea5f",
   "metadata": {},
   "source": [
    "# Add Sets\n",
    "To add items from another set into the current set, use the update() method."
   ]
  },
  {
   "cell_type": "code",
   "execution_count": 28,
   "id": "2e69913b",
   "metadata": {
    "scrolled": true
   },
   "outputs": [
    {
     "name": "stdout",
     "output_type": "stream",
     "text": [
      "{'Mango', 'Papaya', 'Pear', 'Pine', 'Guavava'}\n"
     ]
    }
   ],
   "source": [
    "set1={\"Mango\",\"Pear\",\"Pine\"}\n",
    "set2={\"Guavava\",\"Mango\",\"Papaya\"}\n",
    "set1.update(set2)\n",
    "print(set1)"
   ]
  },
  {
   "cell_type": "markdown",
   "id": "b336be25",
   "metadata": {},
   "source": [
    "# Add Any Iterable\n",
    "The object in the update() method does not have to be a set, it can be any iterable object (tuples, lists, dictionaries etc.)."
   ]
  },
  {
   "cell_type": "code",
   "execution_count": 29,
   "id": "49d3fcb9",
   "metadata": {},
   "outputs": [
    {
     "data": {
      "text/plain": [
       "{'Jhon', 'Josheph', 'Kelly', 'Kiwi', 'Morn'}"
      ]
     },
     "execution_count": 29,
     "metadata": {},
     "output_type": "execute_result"
    }
   ],
   "source": [
    "akm={\"Jhon\",\"Kelly\",\"Josheph\"}\n",
    "akm1={\"Kiwi\",\"Morn\"}\n",
    "akm.update(akm1)\n",
    "akm"
   ]
  },
  {
   "cell_type": "markdown",
   "id": "c29546cc",
   "metadata": {},
   "source": [
    "# Python - Remove Set Items\n",
    "Remove Item\n",
    "To remove an item in a set, use the remove(), or the discard() also we can use \n",
    "del and clear() "
   ]
  },
  {
   "cell_type": "code",
   "execution_count": 31,
   "id": "98594f95",
   "metadata": {},
   "outputs": [
    {
     "data": {
      "text/plain": [
       "{'Josheph', 'Kelly'}"
      ]
     },
     "execution_count": 31,
     "metadata": {},
     "output_type": "execute_result"
    }
   ],
   "source": [
    "akm={\"Jhon\",\"Kelly\",\"Josheph\"}\n",
    "akm.remove(\"Jhon\")\n",
    "akm"
   ]
  },
  {
   "cell_type": "code",
   "execution_count": 32,
   "id": "6cedcd2e",
   "metadata": {},
   "outputs": [
    {
     "data": {
      "text/plain": [
       "{'Jhon', 'Josheph'}"
      ]
     },
     "execution_count": 32,
     "metadata": {},
     "output_type": "execute_result"
    }
   ],
   "source": [
    "akm={\"Jhon\",\"Kelly\",\"Josheph\"}\n",
    "akm.discard(\"Kelly\")\n",
    "akm"
   ]
  },
  {
   "cell_type": "code",
   "execution_count": 35,
   "id": "2401462e",
   "metadata": {},
   "outputs": [
    {
     "data": {
      "text/plain": [
       "'Kelly'"
      ]
     },
     "execution_count": 35,
     "metadata": {},
     "output_type": "execute_result"
    }
   ],
   "source": [
    "akm={\"Jhon\",\"Kelly\",\"Josheph\"}\n",
    "x=akm.pop()\n",
    "x"
   ]
  },
  {
   "cell_type": "code",
   "execution_count": 36,
   "id": "2eae816b",
   "metadata": {},
   "outputs": [
    {
     "name": "stdout",
     "output_type": "stream",
     "text": [
      "{'apple', 'orange', 'banana'}\n"
     ]
    }
   ],
   "source": [
    "sn={\"apple\",\"banana\",\"pine\",\"pine\",\"orange\"}\n",
    "sn.discard(\"pine\")\n",
    "print(sn)"
   ]
  },
  {
   "cell_type": "code",
   "execution_count": 42,
   "id": "cc3ecab2",
   "metadata": {},
   "outputs": [
    {
     "ename": "KeyError",
     "evalue": "'pine'",
     "output_type": "error",
     "traceback": [
      "\u001b[1;31m---------------------------------------------------------------------------\u001b[0m",
      "\u001b[1;31mKeyError\u001b[0m                                  Traceback (most recent call last)",
      "\u001b[1;32m~\\AppData\\Local\\Temp\\ipykernel_8792\\1447500028.py\u001b[0m in \u001b[0;36m<module>\u001b[1;34m\u001b[0m\n\u001b[1;32m----> 1\u001b[1;33m \u001b[0msn\u001b[0m\u001b[1;33m.\u001b[0m\u001b[0mremove\u001b[0m\u001b[1;33m(\u001b[0m\u001b[1;34m\"pine\"\u001b[0m\u001b[1;33m)\u001b[0m\u001b[1;33m\u001b[0m\u001b[1;33m\u001b[0m\u001b[0m\n\u001b[0m\u001b[0;32m      2\u001b[0m \u001b[0msn\u001b[0m\u001b[1;33m\u001b[0m\u001b[1;33m\u001b[0m\u001b[0m\n",
      "\u001b[1;31mKeyError\u001b[0m: 'pine'"
     ]
    }
   ],
   "source": [
    "sn.remove(\"pine\")\n",
    "sn"
   ]
  },
  {
   "cell_type": "code",
   "execution_count": 44,
   "id": "cc521afc",
   "metadata": {},
   "outputs": [],
   "source": [
    "del sn\n"
   ]
  },
  {
   "cell_type": "markdown",
   "id": "314d3f4f",
   "metadata": {},
   "source": [
    "# Loop Items\n",
    "You can loop through the set items by using a for loop:"
   ]
  },
  {
   "cell_type": "code",
   "execution_count": 46,
   "id": "1bab1e8c",
   "metadata": {},
   "outputs": [
    {
     "name": "stdout",
     "output_type": "stream",
     "text": [
      "apple\n",
      "orange\n",
      "banana\n",
      "pine\n"
     ]
    }
   ],
   "source": [
    "sn={\"apple\",\"banana\",\"pine\",\"pine\",\"orange\"}\n",
    "for x in sn:\n",
    "    print(x)"
   ]
  },
  {
   "cell_type": "markdown",
   "id": "2d2416cb",
   "metadata": {},
   "source": [
    "# Join Two Sets\n",
    "There are several ways to join two or more sets in Python.\n",
    "\n",
    "You can use the union() method that returns a new set containing all items from both sets, or the update() method that inserts all the items from one set into another:"
   ]
  },
  {
   "cell_type": "code",
   "execution_count": 47,
   "id": "0ba345a9",
   "metadata": {},
   "outputs": [
    {
     "name": "stdout",
     "output_type": "stream",
     "text": [
      "{1, 2, 3, 'a', 'b', 'c'}\n"
     ]
    }
   ],
   "source": [
    "set1 = {\"a\", \"b\" , \"c\"}\n",
    "set2 = {1, 2, 3}\n",
    "\n",
    "set3 = set1.union(set2)\n",
    "print(set3)"
   ]
  },
  {
   "cell_type": "code",
   "execution_count": 49,
   "id": "84e28ba2",
   "metadata": {},
   "outputs": [
    {
     "name": "stdout",
     "output_type": "stream",
     "text": [
      "{1, 2, 3, 'a', 'b', 'c'}\n"
     ]
    }
   ],
   "source": [
    "#Example\n",
    "#The update() method inserts the items in set2 into set1:\n",
    "\n",
    "\n",
    "set1 = {\"a\", \"b\" , \"c\"}\n",
    "set2 = {1, 2, 3}\n",
    "\n",
    "set1.update(set2)\n",
    "print(set1)\n"
   ]
  },
  {
   "cell_type": "markdown",
   "id": "fa9a7357",
   "metadata": {},
   "source": [
    "# Keep ONLY the Duplicates\n",
    "The intersection_update() method will keep only the items that are present in both sets."
   ]
  },
  {
   "cell_type": "code",
   "execution_count": 50,
   "id": "045c9d46",
   "metadata": {},
   "outputs": [
    {
     "data": {
      "text/plain": [
       "{'Apple'}"
      ]
     },
     "execution_count": 50,
     "metadata": {},
     "output_type": "execute_result"
    }
   ],
   "source": [
    "x={\"Apple\",\"Banana\",\"Cherry\",\"Mango\"}\n",
    "y={\"Google\",\"Microsoft\",\"Apple\",\"guavava\"}\n",
    "x.intersection_update(y)\n",
    "x"
   ]
  },
  {
   "cell_type": "code",
   "execution_count": 52,
   "id": "e25bed4b",
   "metadata": {},
   "outputs": [
    {
     "data": {
      "text/plain": [
       "{'Apple'}"
      ]
     },
     "execution_count": 52,
     "metadata": {},
     "output_type": "execute_result"
    }
   ],
   "source": [
    "x={\"Apple\",\"Banana\",\"Cherry\",\"Mango\"}\n",
    "y={\"Google\",\"Microsoft\",\"Apple\",\"guavava\"}\n",
    "z=x.intersection(y)\n",
    "z"
   ]
  },
  {
   "cell_type": "markdown",
   "id": "72c72f7d",
   "metadata": {},
   "source": [
    "# Keep All, But NOT the Duplicates\n",
    "The symmetric_difference_update() method will keep only the elements that are NOT present in both sets."
   ]
  },
  {
   "cell_type": "code",
   "execution_count": 54,
   "id": "d172237a",
   "metadata": {},
   "outputs": [
    {
     "data": {
      "text/plain": [
       "{'Abhay', 'Roshan', 'Sam', 'aman'}"
      ]
     },
     "execution_count": 54,
     "metadata": {},
     "output_type": "execute_result"
    }
   ],
   "source": [
    "# Keep the items that are not present in both sets:\n",
    "sn={\"aman\",\"Heel\",\"Megha\",\"Sam\"}\n",
    "sn2={\"Heel\",\"Abhay\",\"Megha\",\"Roshan\"}\n",
    "sn.symmetric_difference_update(sn2)\n",
    "sn"
   ]
  },
  {
   "cell_type": "markdown",
   "id": "881bbd9b",
   "metadata": {},
   "source": [
    "## The symmetric_difference() method will return a new set, that contains only the elements that are NOT present in both sets."
   ]
  },
  {
   "cell_type": "code",
   "execution_count": 61,
   "id": "8ed30f32",
   "metadata": {},
   "outputs": [
    {
     "data": {
      "text/plain": [
       "{'Heel', 'Megha', 'Sam', 'aman'}"
      ]
     },
     "execution_count": 61,
     "metadata": {},
     "output_type": "execute_result"
    }
   ],
   "source": [
    "sn1={\"aman\",\"Heel\",\"Megha\",\"Sam\"}\n",
    "sn2={\"Heel\",\"Abhay\",\"Megha\",\"Roshan\"}\n",
    "sn1.symmetric_difference(sn2)\n",
    "sn1"
   ]
  },
  {
   "cell_type": "markdown",
   "id": "ebcf2659",
   "metadata": {},
   "source": [
    "# Python - Set Methods\n",
    "Set Methods\n",
    "Python has a set of built-in methods that you can use on sets.\n",
    "\n",
    "#### Method <---------------------->Description\n",
    "\n",
    "add()--------------------Adds an element to the set\n",
    "clear()------------------Removes all the elements from the set\n",
    "copy()-------------------Returns a copy of the set\n",
    "difference()-------------eturns a set containing the difference between two or more sets\n",
    "\n",
    "difference_update()------Removes the items in this set that are also included in another, specified set\n",
    "\n",
    "discard()-----------------Remove the specified item\n",
    "\n",
    "intersection()------------Returns a set, that is the intersection of two other sets\n",
    "\n",
    "intersection_update()-----Removes the items in this set that are not present in other, specified set(s)\n",
    "\n",
    "isdisjoint()--------------Returns whether two sets have a intersection or not\n",
    "\n",
    "issubset()----------------Returns whether another set contains this set or not\n",
    "issuperset()--------------Returns whether this set contains another set or not\n",
    "pop()---------------------Removes an element from the set\n",
    "\n",
    "remove()\tRemoves the specified element\n",
    "\n",
    "symmetric_difference()-----Returns a set with the symmetric differences of two sets\n",
    "\n",
    "symmetric_difference_update()---inserts the symmetric differences from this set and another\n",
    "union()--------------------Return a set containing the union of sets\n",
    "update()-------------------Update the set with the union of this set and others"
   ]
  },
  {
   "cell_type": "code",
   "execution_count": 62,
   "id": "fbb3892d",
   "metadata": {},
   "outputs": [
    {
     "data": {
      "text/plain": [
       "{'a', 'b'}"
      ]
     },
     "execution_count": 62,
     "metadata": {},
     "output_type": "execute_result"
    }
   ],
   "source": [
    "set1 = {\"a\", \"b\" , \"c\"}\n",
    "set2 = {\"a\",\"b\"}\n",
    "set2.difference(set1)\n",
    "set2"
   ]
  },
  {
   "cell_type": "code",
   "execution_count": null,
   "id": "5688bc69",
   "metadata": {},
   "outputs": [],
   "source": []
  },
  {
   "cell_type": "markdown",
   "id": "4d788fe3",
   "metadata": {},
   "source": [
    "# Python Dictionaries\n",
    "## Dictionary\n",
    "Dictionaries are used to store data values in key:value pairs.\n",
    "\n",
    "A dictionary is a collection which is ordered*, changeable and do not allow duplicates."
   ]
  },
  {
   "cell_type": "code",
   "execution_count": 68,
   "id": "8fdc2828",
   "metadata": {},
   "outputs": [
    {
     "data": {
      "text/plain": [
       "{'brand': 'BMW', 'Model': 'newMustang', 'year': 1995}"
      ]
     },
     "execution_count": 68,
     "metadata": {},
     "output_type": "execute_result"
    }
   ],
   "source": [
    "sndict={\n",
    "    \"brand\":\"BMW\",\n",
    "    \"Model\":\"newMustang\",\n",
    "    \"year\":1995\n",
    "}\n",
    "sndict\n",
    "#print(type(sndict))"
   ]
  },
  {
   "cell_type": "code",
   "execution_count": 69,
   "id": "ad233135",
   "metadata": {},
   "outputs": [
    {
     "name": "stdout",
     "output_type": "stream",
     "text": [
      "BMW\n"
     ]
    }
   ],
   "source": [
    "print(sndict[\"brand\"])"
   ]
  },
  {
   "cell_type": "markdown",
   "id": "3df8f974",
   "metadata": {},
   "source": [
    "# Duplicates Not Allowed\n",
    "Dictionaries cannot have two items with the same key:\n",
    "\n",
    "Duplicate values will overwrite existing values:"
   ]
  },
  {
   "cell_type": "code",
   "execution_count": 72,
   "id": "0a034037",
   "metadata": {},
   "outputs": [
    {
     "name": "stdout",
     "output_type": "stream",
     "text": [
      "{'brand': 'BMW', 'Model': 'newMustang', 'year': 2020}\n"
     ]
    }
   ],
   "source": [
    "sndict1={\n",
    "    \"brand\":\"BMW\",\n",
    "    \"Model\":\"newMustang\",\n",
    "    \"year\":1995,\n",
    "    \"year\":2020\n",
    "}\n",
    "print(sndict1)"
   ]
  },
  {
   "cell_type": "code",
   "execution_count": 73,
   "id": "edee2ed1",
   "metadata": {},
   "outputs": [
    {
     "name": "stdout",
     "output_type": "stream",
     "text": [
      "3\n"
     ]
    }
   ],
   "source": [
    "print(len(sndict1))"
   ]
  },
  {
   "cell_type": "code",
   "execution_count": 75,
   "id": "83f8af4d",
   "metadata": {},
   "outputs": [
    {
     "data": {
      "text/plain": [
       "{'brand': 'Ford',\n",
       " 'electric': False,\n",
       " 'year': 1964,\n",
       " 'colors': ['red', 'white', 'blue']}"
      ]
     },
     "execution_count": 75,
     "metadata": {},
     "output_type": "execute_result"
    }
   ],
   "source": [
    "thisdict = {\n",
    "  \"brand\": \"Ford\",\n",
    "  \"electric\": False,\n",
    "  \"year\": 1964,\n",
    "  \"colors\": [\"red\", \"white\", \"blue\"]\n",
    "}\n",
    "thisdict"
   ]
  },
  {
   "cell_type": "markdown",
   "id": "b13aea75",
   "metadata": {},
   "source": [
    "# The dict() Constructor\n",
    "It is also possible to use the dict() constructor to make a dictionary.\n",
    "\n"
   ]
  },
  {
   "cell_type": "code",
   "execution_count": 77,
   "id": "f72d5f59",
   "metadata": {},
   "outputs": [
    {
     "name": "stdout",
     "output_type": "stream",
     "text": [
      "{'Name': 'Satish', 'age': '23', 'countyr': 'Norway'}\n"
     ]
    }
   ],
   "source": [
    "sn2=dict(Name=\"Satish\",age=\"23\",countyr=\"Norway\")\n",
    "print(sn2)"
   ]
  },
  {
   "cell_type": "markdown",
   "id": "8373887c",
   "metadata": {},
   "source": [
    "# Accessing Items\n",
    "You can access the items of a dictionary by referring to its key name, inside square brackets:"
   ]
  },
  {
   "cell_type": "code",
   "execution_count": 81,
   "id": "a9ba1303",
   "metadata": {},
   "outputs": [
    {
     "name": "stdout",
     "output_type": "stream",
     "text": [
      "['red', 'white', 'blue']\n"
     ]
    }
   ],
   "source": [
    "ss = {\n",
    "  \"brand\": \"Ford\",\n",
    "  \"electric\": False,\n",
    "  \"year\": 1964,\n",
    "  \"colors\": [\"red\", \"white\", \"blue\"]\n",
    "}\n",
    "print(ss[\"colors\"])\n"
   ]
  },
  {
   "cell_type": "markdown",
   "id": "83f1a959",
   "metadata": {},
   "source": [
    "# There is also a method called get() that will give you the same result:\n",
    "\n"
   ]
  },
  {
   "cell_type": "code",
   "execution_count": 85,
   "id": "5ed1413b",
   "metadata": {},
   "outputs": [
    {
     "data": {
      "text/plain": [
       "['red', 'white', 'blue']"
      ]
     },
     "execution_count": 85,
     "metadata": {},
     "output_type": "execute_result"
    }
   ],
   "source": [
    "ss.get(\"colors\")"
   ]
  },
  {
   "cell_type": "markdown",
   "id": "d74951fc",
   "metadata": {},
   "source": [
    "# Get Keys\n",
    "The keys() method will return a list of all the keys in the dictionary."
   ]
  },
  {
   "cell_type": "code",
   "execution_count": 92,
   "id": "5ee1f154",
   "metadata": {},
   "outputs": [
    {
     "data": {
      "text/plain": [
       "dict_keys(['brand', 'electric', 'year', 'colors'])"
      ]
     },
     "execution_count": 92,
     "metadata": {},
     "output_type": "execute_result"
    }
   ],
   "source": [
    "ss = {\n",
    "  \"brand\": \"Ford\",\n",
    "  \"electric\": False,\n",
    "  \"year\": 1964,\n",
    "  \"colors\": [\"red\", \"white\", \"blue\"]\n",
    "}\n",
    "x=ss.keys()\n",
    "x\n"
   ]
  },
  {
   "cell_type": "code",
   "execution_count": 97,
   "id": "398a13c5",
   "metadata": {},
   "outputs": [
    {
     "name": "stdout",
     "output_type": "stream",
     "text": [
      "dict_keys(['brand', 'model', 'year'])\n",
      "dict_values(['Ford', 'Mustang', 1964])\n",
      "dict_keys(['brand', 'model', 'year', 'color', 'Ford'])\n",
      "dict_values(['Ford', 'Mustang', 1964, 'white', 'Tyota'])\n"
     ]
    }
   ],
   "source": [
    "car = {\n",
    "\"brand\": \"Ford\",\n",
    "\"model\": \"Mustang\",\n",
    "\"year\": 1964\n",
    "}\n",
    "\n",
    "x = car.keys()\n",
    "y=car.values()\n",
    "print(x) #before the change for keys\n",
    "print(y) # before the change for values \n",
    "car[\"color\"] = \"white\"\n",
    "car[\"Ford\"]=\"Tyota\"\n",
    "\n",
    "print(x) #after the change for keys\n",
    "print(y) #after the change for values"
   ]
  },
  {
   "cell_type": "markdown",
   "id": "7f293a05",
   "metadata": {},
   "source": [
    "# Get Values\n",
    "The values() method will return a list of all the values in the dictionary."
   ]
  },
  {
   "cell_type": "code",
   "execution_count": 93,
   "id": "aaf4111e",
   "metadata": {},
   "outputs": [
    {
     "data": {
      "text/plain": [
       "dict_values(['Ford', False, 1964, ['red', 'white', 'blue']])"
      ]
     },
     "execution_count": 93,
     "metadata": {},
     "output_type": "execute_result"
    }
   ],
   "source": [
    "y=ss.values()\n",
    "y"
   ]
  },
  {
   "cell_type": "markdown",
   "id": "f95df700",
   "metadata": {},
   "source": [
    "# Check if Key Exists\n",
    "To determine if a specified key is present in a dictionary use the in keyword:"
   ]
  },
  {
   "cell_type": "code",
   "execution_count": 98,
   "id": "ff869a32",
   "metadata": {},
   "outputs": [
    {
     "name": "stdout",
     "output_type": "stream",
     "text": [
      "yes\n"
     ]
    }
   ],
   "source": [
    "ss = {\n",
    "  \"brand\": \"Ford\",\n",
    "  \"electric\": False,\n",
    "  \"year\": 1964,\n",
    "  \"colors\": [\"red\", \"white\", \"blue\"]\n",
    "}\n",
    "if \"brand\" in ss:\n",
    "    print(\"yes\")\n",
    "else:\n",
    "    print(\"no\")"
   ]
  },
  {
   "cell_type": "markdown",
   "id": "97ec74c1",
   "metadata": {},
   "source": [
    "# Change Values\n",
    "You can change the value of a specific item by referring to its key name:"
   ]
  },
  {
   "cell_type": "code",
   "execution_count": 100,
   "id": "8531bc00",
   "metadata": {},
   "outputs": [
    {
     "data": {
      "text/plain": [
       "{'brand': 'THAR', 'electric': True, 'year': 1964, 'colors': 'red'}"
      ]
     },
     "execution_count": 100,
     "metadata": {},
     "output_type": "execute_result"
    }
   ],
   "source": [
    "ss1 = {\n",
    "  \"brand\": \"THAR\",\n",
    "  \"electric\": True,\n",
    "  \"year\": 1964,\n",
    "  \"colors\": [\"red\", \"white\", \"blue\"]\n",
    "}\n",
    "ss1[\"colors\"]=\"red\"\n",
    "ss1"
   ]
  },
  {
   "cell_type": "code",
   "execution_count": 101,
   "id": "a9ff19a8",
   "metadata": {},
   "outputs": [
    {
     "name": "stdout",
     "output_type": "stream",
     "text": [
      "<class 'dict'>\n"
     ]
    }
   ],
   "source": [
    "print(type(ss1))"
   ]
  },
  {
   "cell_type": "markdown",
   "id": "3f6f9023",
   "metadata": {},
   "source": [
    "# Update Dictionary\n",
    "The update() method will update the dictionary with the items from the given argument.\n",
    "\n",
    "The argument must be a dictionary, or an iterable object with key:value pairs."
   ]
  },
  {
   "cell_type": "code",
   "execution_count": 102,
   "id": "749bce17",
   "metadata": {},
   "outputs": [
    {
     "data": {
      "text/plain": [
       "{'brand': 'THAR',\n",
       " 'electric': True,\n",
       " 'year': 2020,\n",
       " 'colors': ['red', 'white', 'blue']}"
      ]
     },
     "execution_count": 102,
     "metadata": {},
     "output_type": "execute_result"
    }
   ],
   "source": [
    "ss2 = {\n",
    "  \"brand\": \"THAR\",\n",
    "  \"electric\": True,\n",
    "  \"year\": 1964,\n",
    "  \"colors\": [\"red\", \"white\", \"blue\"]\n",
    "}\n",
    "ss2.update({\"year\":2020}) # update()\n",
    "ss2"
   ]
  },
  {
   "cell_type": "markdown",
   "id": "ad39c563",
   "metadata": {},
   "source": [
    "# Adding Items\n",
    "Adding an item to the dictionary is done by using a new index key and assigning a value to it:"
   ]
  },
  {
   "cell_type": "code",
   "execution_count": 114,
   "id": "c46aac1a",
   "metadata": {},
   "outputs": [
    {
     "name": "stdout",
     "output_type": "stream",
     "text": [
      "{'name': 'Satish', 'Class': 'MCA', 'Year': 2023, 'Durations': '4Years'}\n"
     ]
    }
   ],
   "source": [
    "sn={\n",
    "    \"name\":\"Satish\",\n",
    "    \"Class\":\"MCA\",\n",
    "    \"Year\":2023\n",
    "}\n",
    "sn[\"Durations\"]=\"4Years\"\n",
    "print(sn)"
   ]
  },
  {
   "cell_type": "code",
   "execution_count": 115,
   "id": "4f7c15da",
   "metadata": {},
   "outputs": [
    {
     "data": {
      "text/plain": [
       "{'name': 'Satish', 'Class': 'MCA', 'Year': 2020, 'Durations': '4Years'}"
      ]
     },
     "execution_count": 115,
     "metadata": {},
     "output_type": "execute_result"
    }
   ],
   "source": [
    "sn.update({\"Year\":2020}) # update()\n",
    "sn"
   ]
  },
  {
   "cell_type": "markdown",
   "id": "cc05c667",
   "metadata": {},
   "source": [
    "# Python - Remove Dictionary Items\n",
    "'Removing Items\"\n",
    "\n",
    "There are several methods to remove items from a dictionary:'"
   ]
  },
  {
   "cell_type": "code",
   "execution_count": 116,
   "id": "82bdd8dd",
   "metadata": {},
   "outputs": [
    {
     "data": {
      "text/plain": [
       "{'name': 'Satish', 'Class': 'MCA', 'Year': 2020, 'Durations': '4Years'}"
      ]
     },
     "execution_count": 116,
     "metadata": {},
     "output_type": "execute_result"
    }
   ],
   "source": [
    "sn"
   ]
  },
  {
   "cell_type": "code",
   "execution_count": 117,
   "id": "4d8731f0",
   "metadata": {},
   "outputs": [
    {
     "data": {
      "text/plain": [
       "'Satish'"
      ]
     },
     "execution_count": 117,
     "metadata": {},
     "output_type": "execute_result"
    }
   ],
   "source": [
    "sn.pop(\"name\")"
   ]
  },
  {
   "cell_type": "code",
   "execution_count": 118,
   "id": "9d9f3b1f",
   "metadata": {},
   "outputs": [
    {
     "data": {
      "text/plain": [
       "{'Class': 'MCA', 'Year': 2020, 'Durations': '4Years'}"
      ]
     },
     "execution_count": 118,
     "metadata": {},
     "output_type": "execute_result"
    }
   ],
   "source": [
    "sn"
   ]
  },
  {
   "cell_type": "code",
   "execution_count": 119,
   "id": "de16683c",
   "metadata": {},
   "outputs": [
    {
     "data": {
      "text/plain": [
       "('Durations', '4Years')"
      ]
     },
     "execution_count": 119,
     "metadata": {},
     "output_type": "execute_result"
    }
   ],
   "source": [
    "sn.popitem()"
   ]
  },
  {
   "cell_type": "code",
   "execution_count": 120,
   "id": "d8130b2d",
   "metadata": {},
   "outputs": [
    {
     "data": {
      "text/plain": [
       "{'Class': 'MCA', 'Year': 2020}"
      ]
     },
     "execution_count": 120,
     "metadata": {},
     "output_type": "execute_result"
    }
   ],
   "source": [
    "sn"
   ]
  },
  {
   "cell_type": "code",
   "execution_count": 124,
   "id": "d40088a0",
   "metadata": {},
   "outputs": [
    {
     "ename": "NameError",
     "evalue": "name 'sn' is not defined",
     "output_type": "error",
     "traceback": [
      "\u001b[1;31m---------------------------------------------------------------------------\u001b[0m",
      "\u001b[1;31mNameError\u001b[0m                                 Traceback (most recent call last)",
      "\u001b[1;32m~\\AppData\\Local\\Temp\\ipykernel_8792\\1243343559.py\u001b[0m in \u001b[0;36m<module>\u001b[1;34m\u001b[0m\n\u001b[1;32m----> 1\u001b[1;33m \u001b[1;32mdel\u001b[0m \u001b[0msn\u001b[0m\u001b[1;33m\u001b[0m\u001b[1;33m\u001b[0m\u001b[0m\n\u001b[0m\u001b[0;32m      2\u001b[0m \u001b[1;31m# This will cause an error beacause \"sn\" no longer exists\u001b[0m\u001b[1;33m\u001b[0m\u001b[1;33m\u001b[0m\u001b[0m\n",
      "\u001b[1;31mNameError\u001b[0m: name 'sn' is not defined"
     ]
    }
   ],
   "source": [
    "del sn \n",
    "# This will cause an error beacause \"sn\" no longer exists"
   ]
  },
  {
   "cell_type": "code",
   "execution_count": 122,
   "id": "2bc1ec09",
   "metadata": {
    "scrolled": true
   },
   "outputs": [
    {
     "ename": "NameError",
     "evalue": "name 'sn' is not defined",
     "output_type": "error",
     "traceback": [
      "\u001b[1;31m---------------------------------------------------------------------------\u001b[0m",
      "\u001b[1;31mNameError\u001b[0m                                 Traceback (most recent call last)",
      "\u001b[1;32m~\\AppData\\Local\\Temp\\ipykernel_8792\\3552601548.py\u001b[0m in \u001b[0;36m<module>\u001b[1;34m\u001b[0m\n\u001b[1;32m----> 1\u001b[1;33m \u001b[0msn\u001b[0m\u001b[1;33m\u001b[0m\u001b[1;33m\u001b[0m\u001b[0m\n\u001b[0m",
      "\u001b[1;31mNameError\u001b[0m: name 'sn' is not defined"
     ]
    }
   ],
   "source": [
    "sn"
   ]
  },
  {
   "cell_type": "code",
   "execution_count": 126,
   "id": "1151964a",
   "metadata": {},
   "outputs": [],
   "source": [
    "# The clear() method empties the dictionary:\n",
    "#it also delete all elemets\n"
   ]
  },
  {
   "cell_type": "markdown",
   "id": "d8980088",
   "metadata": {},
   "source": [
    "# Python - Loop Dictionaries"
   ]
  },
  {
   "cell_type": "code",
   "execution_count": 134,
   "id": "da42bbee",
   "metadata": {},
   "outputs": [
    {
     "name": "stdout",
     "output_type": "stream",
     "text": [
      "satish\n",
      "Hexa\n",
      "Noida\n",
      "2015\n"
     ]
    }
   ],
   "source": [
    "asp={\n",
    "    \"name\":\"satish\",\n",
    "    \"company\":\"Hexa\",\n",
    "    \"location\":\"Noida\",\n",
    "    \"year\":2015\n",
    "}\n",
    "for i in asp:\n",
    "    print(asp[i])"
   ]
  },
  {
   "cell_type": "code",
   "execution_count": 132,
   "id": "ab868d24",
   "metadata": {},
   "outputs": [
    {
     "name": "stdout",
     "output_type": "stream",
     "text": [
      "satish\n",
      "Hexa\n",
      "Noida\n",
      "2015\n"
     ]
    }
   ],
   "source": [
    "asp={\n",
    "    \"name\":\"satish\",\n",
    "    \"company\":\"Hexa\",\n",
    "    \"location\":\"Noida\",\n",
    "    \"year\":2015\n",
    "}\n",
    "for x in asp.values():\n",
    "    print(x)"
   ]
  },
  {
   "cell_type": "code",
   "execution_count": 133,
   "id": "38daf208",
   "metadata": {},
   "outputs": [
    {
     "name": "stdout",
     "output_type": "stream",
     "text": [
      "name\n",
      "company\n",
      "location\n",
      "year\n"
     ]
    }
   ],
   "source": [
    "for x in asp.keys():\n",
    "    print(x)"
   ]
  },
  {
   "cell_type": "code",
   "execution_count": 137,
   "id": "d4ef0f5b",
   "metadata": {},
   "outputs": [
    {
     "name": "stdout",
     "output_type": "stream",
     "text": [
      "name satish\n",
      "company Hexa\n",
      "location Noida\n",
      "year 2015\n"
     ]
    }
   ],
   "source": [
    "# Loop through both keys and values,\n",
    "# by using the items() method:\n",
    "for x,y in asp.items():\n",
    "    print(x,y)"
   ]
  },
  {
   "cell_type": "markdown",
   "id": "f6086071",
   "metadata": {},
   "source": [
    "# Python - Copy Dictionaries\n",
    "There are ways to make a copy, one way is to use the built-in Dictionary method copy()"
   ]
  },
  {
   "cell_type": "code",
   "execution_count": 138,
   "id": "71fbc385",
   "metadata": {},
   "outputs": [
    {
     "name": "stdout",
     "output_type": "stream",
     "text": [
      "{'name': 'satish', 'company': 'Hexa', 'location': 'Noida', 'year': 2015}\n"
     ]
    }
   ],
   "source": [
    "asp={\n",
    "    \"name\":\"satish\",\n",
    "    \"company\":\"Hexa\",\n",
    "    \"location\":\"Noida\",\n",
    "    \"year\":2015\n",
    "}\n",
    "mydict=asp.copy()\n",
    "print(mydict)"
   ]
  },
  {
   "cell_type": "markdown",
   "id": "4b1b1dff",
   "metadata": {},
   "source": [
    "# Another way to make a copy is to use the built-in function dict()."
   ]
  },
  {
   "cell_type": "code",
   "execution_count": 140,
   "id": "d220d5fc",
   "metadata": {},
   "outputs": [
    {
     "name": "stdout",
     "output_type": "stream",
     "text": [
      "{'name': 'satish', 'company': 'Hexa', 'location': 'Noida', 'year': 2015}\n"
     ]
    }
   ],
   "source": [
    "mydict=dict(asp)\n",
    "print(mydict)"
   ]
  },
  {
   "cell_type": "markdown",
   "id": "6a2920b3",
   "metadata": {},
   "source": [
    "# Nested Dictionaries\n",
    "A dictionary can contain dictionaries, this is called nested dictionaries."
   ]
  },
  {
   "cell_type": "code",
   "execution_count": 145,
   "id": "b930ae62",
   "metadata": {},
   "outputs": [
    {
     "data": {
      "text/plain": [
       "{'child1': {'name': 'Jhon', 'year': 2004},\n",
       " 'child2': {'name': 'Kelly', 'year': 2007},\n",
       " 'child3': {'name': 'Marnush', 'year': 2011}}"
      ]
     },
     "execution_count": 145,
     "metadata": {},
     "output_type": "execute_result"
    }
   ],
   "source": [
    "mysn = {\n",
    "  \"child1\" : {\n",
    "    \"name\" : \"Jhon\",\n",
    "    \"year\" : 2004\n",
    "  },\n",
    "  \"child2\" : {\n",
    "    \"name\" : \"Kelly\",\n",
    "    \"year\" : 2007\n",
    "  },\n",
    "  \"child3\" : {\n",
    "    \"name\" : \"Marnush\",\n",
    "    \"year\" : 2011\n",
    "  }\n",
    "}\n",
    "mysn"
   ]
  },
  {
   "cell_type": "code",
   "execution_count": 148,
   "id": "11ea0c3c",
   "metadata": {},
   "outputs": [
    {
     "data": {
      "text/plain": [
       "{'child1': {'name': 'Jhon', 'year': 2004},\n",
       " 'child2': {'name': 'Kelly', 'year': 2007},\n",
       " 'child3': {'name': 'Marnush', 'year': 2011}}"
      ]
     },
     "execution_count": 148,
     "metadata": {},
     "output_type": "execute_result"
    }
   ],
   "source": [
    "child1 = {\n",
    "  \"name\" : \"Jhon\",\n",
    "  \"year\" : 2004\n",
    "}\n",
    "child2 = {\n",
    "  \"name\" : \"Kelly\",\n",
    "  \"year\" : 2007\n",
    "}\n",
    "child3 = {\n",
    "  \"name\" : \"Marnush\",\n",
    "  \"year\" : 2011\n",
    "}\n",
    "\n",
    "mysn1 = {\n",
    "  \"child1\" : child1,\n",
    "  \"child2\" : child2,\n",
    "  \"child3\" : child3\n",
    "}\n",
    "mysn1"
   ]
  },
  {
   "cell_type": "markdown",
   "id": "be04ed9d",
   "metadata": {},
   "source": [
    "# Access Items in Nested Dictionaries"
   ]
  },
  {
   "cell_type": "code",
   "execution_count": 149,
   "id": "a073555f",
   "metadata": {},
   "outputs": [
    {
     "name": "stdout",
     "output_type": "stream",
     "text": [
      "Kelly\n"
     ]
    }
   ],
   "source": [
    "print(mysn[\"child2\"][\"name\"])"
   ]
  },
  {
   "cell_type": "code",
   "execution_count": 150,
   "id": "8b484ed3",
   "metadata": {},
   "outputs": [
    {
     "name": "stdout",
     "output_type": "stream",
     "text": [
      "Jhon\n"
     ]
    }
   ],
   "source": [
    "print(mysn1[\"child1\"][\"name\"])"
   ]
  },
  {
   "cell_type": "markdown",
   "id": "f69d24d9",
   "metadata": {},
   "source": [
    "# Dictionary Methods\n",
    "\n",
    "Python has a set of built-in methods that you can use on dictionaries.\n",
    "\n",
    "Method\t              Description\n",
    "clear()----Removes all the elements from the dictionary\n",
    "\n",
    "copy()-----Returns a copy of the dictionary\n",
    "\n",
    "fromkeys()--Returns a dictionary with the specified keys and value\n",
    "\n",
    "get()-------Returns the value of the specified key\n",
    "\n",
    "items()-----Returns a list containing a tuple for each key value pair\n",
    "\n",
    "keys()------Returns a list containing the dictionary's keys\n",
    "\n",
    "pop()-------Removes the element with the specified key\n",
    "\n",
    "\n",
    "popitem()---Removes the last inserted key-value pair\n",
    "\n",
    "setdefault()--Returns the value of the specified key. If the key does not exist: insert the key, with the specified value\n",
    "\n",
    "update()----Updates the dictionary with the specified key-value pairs\n",
    "\n",
    "values()-----Returns a list of all the values in the dictionary"
   ]
  },
  {
   "cell_type": "code",
   "execution_count": null,
   "id": "9f05de11",
   "metadata": {},
   "outputs": [],
   "source": []
  }
 ],
 "metadata": {
  "kernelspec": {
   "display_name": "Python 3 (ipykernel)",
   "language": "python",
   "name": "python3"
  },
  "language_info": {
   "codemirror_mode": {
    "name": "ipython",
    "version": 3
   },
   "file_extension": ".py",
   "mimetype": "text/x-python",
   "name": "python",
   "nbconvert_exporter": "python",
   "pygments_lexer": "ipython3",
   "version": "3.9.13"
  }
 },
 "nbformat": 4,
 "nbformat_minor": 5
}
